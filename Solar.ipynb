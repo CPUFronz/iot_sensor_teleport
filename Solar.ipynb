{
 "cells": [
  {
   "cell_type": "code",
   "execution_count": null,
   "metadata": {
    "execution": {
     "iopub.execute_input": "2022-04-28T22:42:03.780428Z",
     "iopub.status.busy": "2022-04-28T22:42:03.779174Z",
     "iopub.status.idle": "2022-04-28T22:42:03.790033Z",
     "shell.execute_reply": "2022-04-28T22:42:03.789336Z"
    }
   },
   "outputs": [],
   "source": [
    "%load_ext autoreload\n",
    "%autoreload 2"
   ]
  },
  {
   "cell_type": "code",
   "execution_count": null,
   "metadata": {
    "execution": {
     "iopub.execute_input": "2022-04-28T22:42:03.795186Z",
     "iopub.status.busy": "2022-04-28T22:42:03.794582Z",
     "iopub.status.idle": "2022-04-28T22:42:04.875031Z",
     "shell.execute_reply": "2022-04-28T22:42:04.874524Z"
    }
   },
   "outputs": [],
   "source": [
    "import os\n",
    "\n",
    "import joblib\n",
    "import torch\n",
    "\n",
    "import numpy as np\n",
    "import pandas as pd\n",
    "import xgboost as xgb\n",
    "\n",
    "from scipy.stats import pearsonr\n",
    "\n",
    "from IPython.display import Image\n",
    "\n",
    "import plotly.graph_objects as go\n",
    "from plotly.subplots import make_subplots\n",
    "\n",
    "from utils import scale_data\n",
    "from utils import preprocess_AUT_data\n",
    "from utils import set_seeds\n",
    "\n",
    "from utils import bayes_filter\n",
    "from utils import l2norm_km\n",
    "from utils import print_metrics\n",
    "\n",
    "from utils import train_teleport\n",
    "from utils import test_models"
   ]
  },
  {
   "cell_type": "code",
   "execution_count": null,
   "metadata": {
    "execution": {
     "iopub.execute_input": "2022-04-28T22:42:04.877984Z",
     "iopub.status.busy": "2022-04-28T22:42:04.877538Z",
     "iopub.status.idle": "2022-04-28T22:42:04.893104Z",
     "shell.execute_reply": "2022-04-28T22:42:04.892009Z"
    }
   },
   "outputs": [],
   "source": [
    "from constants import SEED\n",
    "\n",
    "from constants import NUM_ESTIMATORS"
   ]
  },
  {
   "cell_type": "code",
   "execution_count": null,
   "metadata": {
    "execution": {
     "iopub.execute_input": "2022-04-28T22:42:04.898381Z",
     "iopub.status.busy": "2022-04-28T22:42:04.897620Z",
     "iopub.status.idle": "2022-04-28T22:42:04.912304Z",
     "shell.execute_reply": "2022-04-28T22:42:04.911923Z"
    }
   },
   "outputs": [],
   "source": [
    "SENSOR_COLS = ['Short-wave irradiation', 'YTD']\n",
    "TARGET = ['Temperature']\n",
    "X_WEST = 120\n",
    "X_EAST = 160\n",
    "DF_SOLAR = 'df_solar.csv'\n",
    "FN_KRIGED_SOLAR = 'assets/solar_maps.npy'\n",
    "FN_MODELS_H_SOLAR = 'assets/solar_models_H.pkl'\n",
    "FN_MODEL_TELEPORT_SOLAR = 'assets/solar_models_teleport.pkl'"
   ]
  },
  {
   "cell_type": "markdown",
   "metadata": {},
   "source": [
    "# Prepare Data"
   ]
  },
  {
   "cell_type": "code",
   "execution_count": null,
   "metadata": {
    "execution": {
     "iopub.execute_input": "2022-04-28T22:42:04.915046Z",
     "iopub.status.busy": "2022-04-28T22:42:04.914667Z",
     "iopub.status.idle": "2022-04-28T22:42:04.926542Z",
     "shell.execute_reply": "2022-04-28T22:42:04.926097Z"
    }
   },
   "outputs": [],
   "source": [
    "set_seeds()"
   ]
  },
  {
   "cell_type": "code",
   "execution_count": null,
   "metadata": {
    "execution": {
     "iopub.execute_input": "2022-04-28T22:42:04.930343Z",
     "iopub.status.busy": "2022-04-28T22:42:04.929901Z",
     "iopub.status.idle": "2022-04-28T22:51:26.680408Z",
     "shell.execute_reply": "2022-04-28T22:51:26.679939Z"
    },
    "scrolled": true
   },
   "outputs": [],
   "source": [
    "if not os.path.exists(DF_SOLAR) or not os.path.exists(FN_KRIGED_SOLAR):\n",
    "    df, k_maps = preprocess_AUT_data('postal_code', SENSOR_COLS, TARGET, ['postal_code', 'datetime'])\n",
    "    df.to_csv(DF_SOLAR, index=False)\n",
    "    joblib.dump(k_maps, FN_KRIGED_SOLAR)\n",
    "\n",
    "df = pd.read_csv(DF_SOLAR)\n",
    "df, scaler = scale_data(df, SENSOR_COLS + TARGET)\n",
    "\n",
    "k_maps = joblib.load(FN_KRIGED_SOLAR)"
   ]
  },
  {
   "cell_type": "code",
   "execution_count": null,
   "metadata": {
    "execution": {
     "iopub.execute_input": "2022-04-28T22:51:26.685568Z",
     "iopub.status.busy": "2022-04-28T22:51:26.684877Z",
     "iopub.status.idle": "2022-04-28T22:51:28.761965Z",
     "shell.execute_reply": "2022-04-28T22:51:28.761586Z"
    }
   },
   "outputs": [],
   "source": [
    "tele_coord = []\n",
    "\n",
    "for post_code, tmp_df in df.groupby(['postal_code']):\n",
    "    rx = int(tmp_df['real_x'].iloc[0])\n",
    "    ry = int(tmp_df['real_y'].iloc[0])\n",
    "    tele_coord.append((rx, ry, post_code))\n",
    "\n",
    "for i in [-1, 1]:\n",
    "    for coord in tele_coord:\n",
    "        tmp_df = pd.DataFrame()\n",
    "        for k in k_maps.keys():\n",
    "            tmp_df[k] = k_maps[k][:, coord[0], coord[1]]\n",
    "        tmp_df['real_x'] = coord[0] + i\n",
    "        tmp_df['real_y'] = coord[1]\n",
    "        tmp_df['postal_code'] = str(coord[2]) + '_' + str(i)\n",
    "        tmp_df['YTD'] = df.loc[df['postal_code'] == df['postal_code'].unique()[0], 'YTD']\n",
    "\n",
    "        df = pd.concat([df, tmp_df], ignore_index=True)"
   ]
  },
  {
   "cell_type": "code",
   "execution_count": null,
   "metadata": {
    "execution": {
     "iopub.execute_input": "2022-04-28T22:51:28.767759Z",
     "iopub.status.busy": "2022-04-28T22:51:28.767083Z",
     "iopub.status.idle": "2022-04-28T22:51:28.838395Z",
     "shell.execute_reply": "2022-04-28T22:51:28.838814Z"
    }
   },
   "outputs": [],
   "source": [
    "df = df.reset_index().drop(columns='index')\n",
    "\n",
    "n_examples_data = len(df)\n",
    "val_examples_data = np.random.choice(df.index, int(n_examples_data * 0.3), replace=False)\n",
    "df_val_data = df.loc[df['postal_code'].isin(df.iloc[val_examples_data]['postal_code'].unique())]\n",
    "df_train_data = df.drop(val_examples_data)\n",
    "\n",
    "n_examples_station = len(df['postal_code'].unique())\n",
    "val_examples_station = np.random.choice(df['postal_code'].unique(), int(n_examples_station * 0.3), replace=False)\n",
    "df_val_station = df.loc[(df['postal_code'].isin(val_examples_station))]\n",
    "df_train_station = df.loc[(~df['postal_code'].isin(val_examples_station))]\n",
    "\n",
    "df_joined = df.query(f'real_x < {X_WEST} or real_x > {X_EAST}')\n",
    "n_examples_west = len(df_joined.query(f'real_x < {X_WEST}')['postal_code'].unique())\n",
    "n_examples_east = len(df_joined.query(f'real_x > {X_EAST}')['postal_code'].unique())\n",
    "val_examples_west = np.random.choice(df_joined.query(f'real_x < {X_WEST}')['postal_code'].unique(), int(n_examples_west * 0.3), replace=False)\n",
    "val_examples_east = np.random.choice(df_joined.query(f'real_x > {X_EAST}')['postal_code'].unique(), int(n_examples_east * 0.3), replace=False)"
   ]
  },
  {
   "cell_type": "code",
   "execution_count": null,
   "metadata": {
    "execution": {
     "iopub.execute_input": "2022-04-28T22:51:28.841970Z",
     "iopub.status.busy": "2022-04-28T22:51:28.841315Z",
     "iopub.status.idle": "2022-04-28T22:51:28.854752Z",
     "shell.execute_reply": "2022-04-28T22:51:28.854283Z"
    }
   },
   "outputs": [],
   "source": [
    "print(f'Total Stations: {n_examples_station:22}')\n",
    "print(f'Station Split Validation Stations: {len(val_examples_station):3}')\n",
    "print(f'Station Split Traning Stations: {n_examples_station-len(val_examples_station):6}')"
   ]
  },
  {
   "cell_type": "code",
   "execution_count": null,
   "metadata": {
    "execution": {
     "iopub.execute_input": "2022-04-28T22:51:28.857924Z",
     "iopub.status.busy": "2022-04-28T22:51:28.857290Z",
     "iopub.status.idle": "2022-04-28T22:51:28.881322Z",
     "shell.execute_reply": "2022-04-28T22:51:28.880942Z"
    }
   },
   "outputs": [],
   "source": [
    "df['ORIGINAL_Short-wave irradiation'].describe()"
   ]
  },
  {
   "cell_type": "markdown",
   "metadata": {},
   "source": [
    "# Training\n",
    "## Train Model H"
   ]
  },
  {
   "cell_type": "code",
   "execution_count": null,
   "metadata": {
    "execution": {
     "iopub.execute_input": "2022-04-28T22:51:28.884951Z",
     "iopub.status.busy": "2022-04-28T22:51:28.884305Z",
     "iopub.status.idle": "2022-04-28T22:51:28.916859Z",
     "shell.execute_reply": "2022-04-28T22:51:28.916391Z"
    }
   },
   "outputs": [],
   "source": [
    "valval = [v for v in df_val_data['postal_code'].unique() if type(v) == float]\n",
    "df_val_data = df_val_data.query(f'postal_code in {valval}')\n",
    "df_val_station = df_val_data.query(f'postal_code in {valval}')"
   ]
  },
  {
   "cell_type": "code",
   "execution_count": null,
   "metadata": {
    "execution": {
     "iopub.execute_input": "2022-04-28T22:51:28.921301Z",
     "iopub.status.busy": "2022-04-28T22:51:28.920610Z",
     "iopub.status.idle": "2022-04-28T22:54:30.773283Z",
     "shell.execute_reply": "2022-04-28T22:54:30.772919Z"
    }
   },
   "outputs": [],
   "source": [
    "if not os.path.exists(FN_MODELS_H_SOLAR):\n",
    "    models_H = {}\n",
    "    for n in ['data_split', 'station_split']:\n",
    "        if n == 'data_split':\n",
    "            X = df_train_data[SENSOR_COLS]\n",
    "            y = df_train_data[TARGET]\n",
    "        elif n == 'station_split':\n",
    "            X = df_train_station[SENSOR_COLS]\n",
    "            y = df_train_station[TARGET]\n",
    "\n",
    "        reg = xgb.XGBRegressor(n_estimators=NUM_ESTIMATORS, random_state=SEED, n_jobs=8)\n",
    "        reg.fit(X, y)\n",
    "\n",
    "        models_H[n] = reg\n",
    "    joblib.dump(models_H, FN_MODELS_H_SOLAR)\n",
    "else:\n",
    "    models_H = joblib.load(FN_MODELS_H_SOLAR)"
   ]
  },
  {
   "cell_type": "code",
   "execution_count": null,
   "metadata": {
    "execution": {
     "iopub.execute_input": "2022-04-28T22:54:30.776608Z",
     "iopub.status.busy": "2022-04-28T22:54:30.776211Z",
     "iopub.status.idle": "2022-04-28T22:54:53.973839Z",
     "shell.execute_reply": "2022-04-28T22:54:53.973099Z"
    },
    "scrolled": true
   },
   "outputs": [],
   "source": [
    "dist = {}\n",
    "\n",
    "for n in models_H:\n",
    "    if n == 'data_split':\n",
    "        df_val_data_examples = df_val_data['postal_code'].unique()\n",
    "        df_val = df.loc[df['postal_code'].isin(df_val_data_examples)]\n",
    "    elif n == 'station_split':\n",
    "        df_val = df_val_station\n",
    "    \n",
    "    dist[n] = print_metrics(df_val, 'postal_code', models_H[n], SENSOR_COLS, TARGET, k_maps, scaler, 'A')"
   ]
  },
  {
   "cell_type": "markdown",
   "metadata": {},
   "source": [
    "## Train Teleport Models"
   ]
  },
  {
   "cell_type": "code",
   "execution_count": null,
   "metadata": {
    "execution": {
     "iopub.execute_input": "2022-04-28T22:54:53.979644Z",
     "iopub.status.busy": "2022-04-28T22:54:53.979050Z",
     "iopub.status.idle": "2022-04-28T22:54:54.016610Z",
     "shell.execute_reply": "2022-04-28T22:54:54.016968Z"
    }
   },
   "outputs": [],
   "source": [
    "df_train_west = df_joined.loc[~df_joined['postal_code'].isin(val_examples_west)].query(f'real_x < {X_WEST}')\n",
    "df_train_east = df_joined.loc[~df_joined['postal_code'].isin(val_examples_east)].query(f'real_x > {X_EAST}')\n",
    "df_val_west = df_joined.loc[df_joined['postal_code'].isin(val_examples_west)]\n",
    "df_val_east = df_joined.loc[df_joined['postal_code'].isin(val_examples_east)]"
   ]
  },
  {
   "cell_type": "code",
   "execution_count": null,
   "metadata": {
    "execution": {
     "iopub.execute_input": "2022-04-28T22:54:54.020657Z",
     "iopub.status.busy": "2022-04-28T22:54:54.020228Z",
     "iopub.status.idle": "2022-04-29T00:32:52.068782Z",
     "shell.execute_reply": "2022-04-29T00:32:52.068184Z"
    }
   },
   "outputs": [],
   "source": [
    "if not os.path.exists(FN_MODEL_TELEPORT_SOLAR):\n",
    "    models_T = train_teleport(\n",
    "        df_train_west[SENSOR_COLS].to_numpy(),\n",
    "        df_train_east[SENSOR_COLS].to_numpy(),\n",
    "        df_val_west[SENSOR_COLS].to_numpy(),\n",
    "        df_val_east[SENSOR_COLS].to_numpy()\n",
    "    )\n",
    "    joblib.dump(models_T, FN_MODEL_TELEPORT_SOLAR)\n",
    "else:\n",
    "    models_T = joblib.load(FN_MODEL_TELEPORT_SOLAR)\n",
    "    \n",
    "enc_a = models_T['enc_a']\n",
    "enc_b = models_T['enc_b']\n",
    "lat = models_T['lat']\n",
    "dec_a = models_T['dec_a']\n",
    "dec_b = models_T['dec_b']"
   ]
  },
  {
   "cell_type": "markdown",
   "metadata": {},
   "source": [
    "# Test"
   ]
  },
  {
   "cell_type": "code",
   "execution_count": null,
   "metadata": {
    "execution": {
     "iopub.execute_input": "2022-04-29T00:32:52.072562Z",
     "iopub.status.busy": "2022-04-29T00:32:52.071996Z",
     "iopub.status.idle": "2022-04-29T00:33:04.454486Z",
     "shell.execute_reply": "2022-04-29T00:33:04.453859Z"
    }
   },
   "outputs": [],
   "source": [
    "orig_a, tele_a, orig_b, tele_b, rse_tele_a, rse_tele_b, mae_ae = test_models(\n",
    "    'postal_code', df_val_west, df_val_east, SENSOR_COLS, \n",
    "#    models_H['station_split'], models_T,\n",
    "    models_H['data_split'], models_T,\n",
    "    k_maps['Temperature'], scaler, 'A'\n",
    ")"
   ]
  },
  {
   "cell_type": "code",
   "execution_count": null,
   "metadata": {
    "execution": {
     "iopub.execute_input": "2022-04-29T00:33:04.457790Z",
     "iopub.status.busy": "2022-04-29T00:33:04.457251Z",
     "iopub.status.idle": "2022-04-29T00:33:04.470653Z",
     "shell.execute_reply": "2022-04-29T00:33:04.470054Z"
    }
   },
   "outputs": [],
   "source": [
    "mae_ae = np.array(mae_ae)\n",
    "print(f'AutoEncoder MAE: {mae_ae.mean()}')"
   ]
  },
  {
   "cell_type": "code",
   "execution_count": null,
   "metadata": {
    "execution": {
     "iopub.execute_input": "2022-04-29T00:33:04.473853Z",
     "iopub.status.busy": "2022-04-29T00:33:04.473335Z",
     "iopub.status.idle": "2022-04-29T00:33:04.486464Z",
     "shell.execute_reply": "2022-04-29T00:33:04.485904Z"
    }
   },
   "outputs": [],
   "source": [
    "distance_ew = l2norm_km((X_WEST, 0), (X_EAST, 0), 'A')\n",
    "print(f'Distance East-West: {distance_ew}')"
   ]
  },
  {
   "cell_type": "markdown",
   "metadata": {},
   "source": [
    "# Plots"
   ]
  },
  {
   "cell_type": "code",
   "execution_count": null,
   "metadata": {
    "execution": {
     "iopub.execute_input": "2022-04-29T00:33:04.490166Z",
     "iopub.status.busy": "2022-04-29T00:33:04.489637Z",
     "iopub.status.idle": "2022-04-29T00:33:04.517004Z",
     "shell.execute_reply": "2022-04-29T00:33:04.517575Z"
    }
   },
   "outputs": [],
   "source": [
    "to_plot = [8063, 4794]\n",
    "\n",
    "df_val = pd.concat([df_val_west, df_val_east]).reset_index().drop(columns=['index'])\n",
    "for i in to_plot:\n",
    "    if i not in df_val['postal_code'].unique():\n",
    "        df_val = pd.concat([df_val, df.query(f'postal_code == {i}')]).reset_index().drop(columns=['index'])"
   ]
  },
  {
   "cell_type": "markdown",
   "metadata": {},
   "source": [
    "## Scatter Plot Real vs Predicted Values (Model H)"
   ]
  },
  {
   "cell_type": "code",
   "execution_count": null,
   "metadata": {
    "execution": {
     "iopub.execute_input": "2022-04-29T00:33:04.523785Z",
     "iopub.status.busy": "2022-04-29T00:33:04.523195Z",
     "iopub.status.idle": "2022-04-29T00:33:09.558571Z",
     "shell.execute_reply": "2022-04-29T00:33:09.559124Z"
    }
   },
   "outputs": [],
   "source": [
    "orig = []\n",
    "pred = []\n",
    "\n",
    "for _, tmp_df in df_val.groupby(['postal_code']):\n",
    "    real_scaled = scaler.inverse_transform(tmp_df[TARGET].to_numpy(), TARGET)\n",
    "    orig.extend(real_scaled.ravel())\n",
    "\n",
    "    w_prime = models_H['data_split'].predict(tmp_df[SENSOR_COLS])\n",
    "    w_prime_scaled = scaler.inverse_transform(w_prime, TARGET)\n",
    "    pred.extend(w_prime_scaled.ravel())\n",
    "    \n",
    "fig = go.Figure()\n",
    "fig.add_trace(go.Scatter(x=orig, y=np.array(pred).ravel(), mode='markers', name='Prediction'))\n",
    "\n",
    "fig.add_trace(go.Scatter(x=[260, 300], y=[260, 300], mode='lines'))\n",
    "fig.update_layout(showlegend=False)\n",
    "\n",
    "fig.update_layout(autosize=False, width=500, height=500, font={'size': 24}, template='simple_white')\n",
    "fig.update_layout(margin={'l': 0,'r': 0, 'b': 0,'t': 0})\n",
    "fig.update_layout(xaxis_title='Real Temperature (K)', yaxis_title='Predicted Temperature (K)')\n",
    "img = fig.to_image(format=\"png\")\n",
    "with open('plots/solar_weather_scatter.png', 'wb') as f:\n",
    "    f.write(img)\n",
    "Image(img)"
   ]
  },
  {
   "cell_type": "markdown",
   "metadata": {},
   "source": [
    "##  Localisation over Time"
   ]
  },
  {
   "cell_type": "code",
   "execution_count": null,
   "metadata": {
    "execution": {
     "iopub.execute_input": "2022-04-29T00:33:09.568646Z",
     "iopub.status.busy": "2022-04-29T00:33:09.567874Z",
     "iopub.status.idle": "2022-04-29T00:35:05.530416Z",
     "shell.execute_reply": "2022-04-29T00:35:05.529772Z"
    }
   },
   "outputs": [],
   "source": [
    "df_results = pd.DataFrame()\n",
    "results = []\n",
    "durations = [7, 14, 31, 90, 180, 365]\n",
    "\n",
    "for postal_code, tmp_df in df_val.groupby(['postal_code']):\n",
    "    real_x = int(tmp_df['real_x'].iloc[0])\n",
    "    real_y = int(tmp_df['real_y'].iloc[0])\n",
    "\n",
    "    for duration in durations:\n",
    "        for run in range(20):\n",
    "            if duration != 365:\n",
    "                max_time = k_maps['Temperature'].shape[0]\n",
    "                start = np.random.randint(0, max_time - duration)\n",
    "            else:\n",
    "                if duration == 365 and run == 0:\n",
    "                    start = 0\n",
    "                else:\n",
    "                    break\n",
    "\n",
    "            w_prime = models_H['data_split'].predict(tmp_df[SENSOR_COLS])\n",
    "            w_prime_range = w_prime[start:start+duration]\n",
    "            x, y = bayes_filter(w_prime_range, k_maps['Temperature'], start, duration)\n",
    "            dist = l2norm_km((real_x, real_y), (x, y), 'A')\n",
    "            res = {'postal_code': postal_code, 'dist': dist, 'pred_x': x, 'pred_y': y,\n",
    "                   'real_x': real_x, 'real_y': real_y, 'run': run, 'duration': duration, 'start': start}\n",
    "            results.append(res)"
   ]
  },
  {
   "cell_type": "code",
   "execution_count": null,
   "metadata": {
    "execution": {
     "iopub.execute_input": "2022-04-29T00:35:05.535843Z",
     "iopub.status.busy": "2022-04-29T00:35:05.535267Z",
     "iopub.status.idle": "2022-04-29T00:35:06.104523Z",
     "shell.execute_reply": "2022-04-29T00:35:06.104927Z"
    }
   },
   "outputs": [],
   "source": [
    "df_results = pd.DataFrame(results)\n",
    "\n",
    "fig = go.Figure()\n",
    "for duration in durations:\n",
    "    fig.add_trace(go.Box(y=df_results.loc[df_results['duration']==duration, 'dist'], name=duration))\n",
    "fig.update_layout(showlegend=False, template='simple_white')\n",
    "fig.update_layout(xaxis_title='Days', font={'size': 24}, margin={'l': 0,'r': 0, 'b': 0,'t': 0})\n",
    "fig.update_yaxes(title_text='Error (km)', range=[0, 80])\n",
    "fig.show()\n",
    "\n",
    "fig.write_image('plots/solar_localization.pdf')"
   ]
  },
  {
   "cell_type": "markdown",
   "metadata": {},
   "source": [
    "## Sample Traces and Condidence/Error over Time"
   ]
  },
  {
   "cell_type": "code",
   "execution_count": null,
   "metadata": {
    "execution": {
     "iopub.execute_input": "2022-04-29T00:35:06.119605Z",
     "iopub.status.busy": "2022-04-29T00:35:06.118914Z",
     "iopub.status.idle": "2022-04-29T00:35:07.433665Z",
     "shell.execute_reply": "2022-04-29T00:35:07.433088Z"
    }
   },
   "outputs": [],
   "source": [
    "fig_temp = go.Figure()\n",
    "fig_sens = go.Figure()\n",
    "fig_dist_conf = make_subplots(specs=[[{\"secondary_y\": True}]])\n",
    "\n",
    "log_tickvals = np.array([1, 5, 10, 20, 50, 100, 200])\n",
    "idx = 1\n",
    "\n",
    "for ref_station in df_val['postal_code'].unique():\n",
    "    if ref_station in to_plot:\n",
    "        tmp_df = df_val.loc[df_val['postal_code'] == ref_station]\n",
    "\n",
    "        fig_temp.add_trace(go.Scatter(y=scaler.inverse_transform(tmp_df['Temperature'].to_numpy(), ['Temperature']).ravel()))\n",
    "        fig_temp.update_layout(template='simple_white', showlegend=False, width=1000, height=500)\n",
    "        fig_temp.update_layout(margin={'l': 0,'r': 0, 'b': 0,'t': 0}, font={'size': 24})\n",
    "        fig_temp.update_layout(yaxis_title='Temperature (K)', xaxis_title='Days')\n",
    "                             \n",
    "        fig_sens.add_trace(go.Scatter(y=scaler.inverse_transform(tmp_df['Short-wave irradiation'].to_numpy(), ['Short-wave irradiation']).ravel()))\n",
    "        fig_sens.update_layout(template='simple_white', showlegend=False, width=1000, height=500)\n",
    "        fig_sens.update_layout(margin={'l': 0,'r': 0, 'b': 0,'t': 0}, font={'size': 24})\n",
    "        fig_sens.update_layout(yaxis_title='Short-wave irradiation (Wh/m²)', xaxis_title='Days')\n",
    "        \n",
    "        real_x = int(tmp_df['real_x'].unique().item())\n",
    "        real_y = int(tmp_df['real_y'].unique().item())\n",
    "        x, y, post = bayes_filter(tmp_df['Temperature'].to_numpy(), k_maps['Temperature'], 0, 365, posteriors=True)\n",
    "        post = np.array(post)\n",
    "        fig_dist_conf.add_trace(go.Scatter(y=post[:, real_x, real_y], name='Confidence ' +str(idx)), secondary_y=True)\n",
    "        \n",
    "        distances = []\n",
    "        for i in range(len(post)):\n",
    "            x, y = np.unravel_index(post[i].argmax(), post[i].shape)\n",
    "            distances.append(l2norm_km((real_x, real_y), (x, y), 'A'))\n",
    "        fig_dist_conf.add_trace(go.Scatter(y=distances, name='Error ' + str(idx)), secondary_y=False)\n",
    "        fig_dist_conf.update_layout(template='simple_white', margin={'l': 0,'r': 0, 'b': 0,'t': 0})\n",
    "        fig_dist_conf.update_layout(xaxis_title='Days', template='simple_white', margin={'l': 0,'r': 0, 'b': 0,'t': 0}, font={'size': 24})\n",
    "        fig_dist_conf.update_layout(width=1000, height=500)\n",
    "        fig_dist_conf.update_yaxes(title_text='Confidence', secondary_y=True)\n",
    "        fig_dist_conf.update_yaxes(title_text='Error (km)', secondary_y=False, type='log', tickvals=log_tickvals)\n",
    "        idx += 1\n",
    "\n",
    "fig_dist_conf.update_layout(legend={'orientation': 'h', 'yanchor': 'bottom', 'y': 1.02, 'xanchor': 'right', 'x': 1})\n",
    "        \n",
    "fig_dist_conf['data'][0]['marker'] = {'color': 'orange'}\n",
    "fig_dist_conf['data'][0]['line'] = {'width': 3}\n",
    "fig_dist_conf['data'][1]['marker'] = {'color': 'orange'}\n",
    "fig_dist_conf['data'][1]['line'] = {'dash': 'dot', 'width': 4}\n",
    "fig_dist_conf['data'][2]['marker'] = {'color': '#1f77b4'}\n",
    "fig_dist_conf['data'][2]['line'] = {'width': 3}\n",
    "fig_dist_conf['data'][3]['marker'] = {'color': '#1f77b4'}\n",
    "fig_dist_conf['data'][3]['line'] = {'dash': 'dash', 'width': 4}\n",
    "\n",
    "\n",
    "fig_temp.show()\n",
    "fig_sens.show()\n",
    "fig_dist_conf.show()\n",
    "\n",
    "fig_temp.write_image('plots/solar_h_temp_sample.pdf')\n",
    "fig_sens.write_image('plots/solar_h_sens_sample.pdf')\n",
    "fig_dist_conf.write_image('plots/solar_h_dist_conf.pdf')"
   ]
  },
  {
   "cell_type": "markdown",
   "metadata": {},
   "source": [
    "## Original vs Teleported"
   ]
  },
  {
   "cell_type": "code",
   "execution_count": null,
   "metadata": {
    "execution": {
     "iopub.execute_input": "2022-04-29T00:35:07.439741Z",
     "iopub.status.busy": "2022-04-29T00:35:07.439231Z",
     "iopub.status.idle": "2022-04-29T00:35:07.753203Z",
     "shell.execute_reply": "2022-04-29T00:35:07.752610Z"
    },
    "scrolled": false
   },
   "outputs": [],
   "source": [
    "tmp_df = df_val.loc[df_val['postal_code'] == 8232]\n",
    "S_ab = torch.Tensor(tmp_df[SENSOR_COLS].to_numpy())\n",
    "with torch.no_grad():\n",
    "    s_tele_a = dec_b(lat(enc_a(S_ab)))\n",
    "S_ab = S_ab.numpy()\n",
    "s_tele_a = s_tele_a.numpy()\n",
    "\n",
    "fig = go.Figure()\n",
    "fig.add_trace(go.Scatter(y=scaler.inverse_transform(S_ab[:, 0], [SENSOR_COLS[0]]).squeeze(), name='Original', line=dict(width=3)))\n",
    "fig.add_trace(go.Scatter(y=scaler.inverse_transform(s_tele_a[:, 0], [SENSOR_COLS[0]]).squeeze(), name='Teleported'))\n",
    "fig.update_layout(template='simple_white', margin={'l': 0,'r': 0, 'b': 0,'t': 0})\n",
    "fig.update_layout(font={'size': 24}, xaxis_title='Days', yaxis_title='Solar Radiation (Wh/m²)')\n",
    "fig.update_layout(legend={'orientation': 'h', 'yanchor': 'bottom', 'y': 1.02, 'xanchor': 'right', 'x': 1})\n",
    "fig.show()\n",
    "fig.write_image('plots/solar_teleport_sample.pdf')"
   ]
  },
  {
   "cell_type": "code",
   "execution_count": null,
   "metadata": {
    "execution": {
     "iopub.execute_input": "2022-04-29T00:35:07.756593Z",
     "iopub.status.busy": "2022-04-29T00:35:07.756182Z",
     "iopub.status.idle": "2022-04-29T00:35:07.774377Z",
     "shell.execute_reply": "2022-04-29T00:35:07.774724Z"
    }
   },
   "outputs": [],
   "source": [
    "pearsonr(S_ab[:, 0], s_tele_a[:, 0])"
   ]
  },
  {
   "cell_type": "markdown",
   "metadata": {},
   "source": [
    "## Distance from Teleported"
   ]
  },
  {
   "cell_type": "code",
   "execution_count": null,
   "metadata": {
    "execution": {
     "iopub.execute_input": "2022-04-29T00:35:07.779369Z",
     "iopub.status.busy": "2022-04-29T00:35:07.778954Z",
     "iopub.status.idle": "2022-04-29T00:35:09.529962Z",
     "shell.execute_reply": "2022-04-29T00:35:09.529462Z"
    }
   },
   "outputs": [],
   "source": [
    "stations_west = df_val_west['postal_code'].unique()\n",
    "stations_east = df_val_east['postal_code'].unique()\n",
    "station_distances = []\n",
    "\n",
    "for i in range(len(stations_west)):\n",
    "    tmp_df = df.loc[df['postal_code'] == stations_west[i]]\n",
    "    x_A = tmp_df['real_x'].iloc[0]\n",
    "    y_A = tmp_df['real_y'].iloc[0]\n",
    "    for i in range(len(stations_east)):\n",
    "        tmp_df = df.loc[df['postal_code'] == stations_east[i]]\n",
    "        x_B = tmp_df['real_x'].iloc[0]\n",
    "        y_B = tmp_df['real_y'].iloc[0]\n",
    "        \n",
    "        station_distances.append(l2norm_km((x_A, y_A), (x_B, y_B), 'A'))"
   ]
  },
  {
   "cell_type": "code",
   "execution_count": null,
   "metadata": {
    "execution": {
     "iopub.execute_input": "2022-04-29T00:35:09.534659Z",
     "iopub.status.busy": "2022-04-29T00:35:09.534218Z",
     "iopub.status.idle": "2022-04-29T00:35:09.809204Z",
     "shell.execute_reply": "2022-04-29T00:35:09.810012Z"
    }
   },
   "outputs": [],
   "source": [
    "fig = go.Figure()\n",
    "fig.add_trace(go.Box(y=station_distances, name='Station Distances'))\n",
    "fig.add_trace(go.Box(y=orig_a, name='Original Trace West'))\n",
    "fig.add_trace(go.Box(y=tele_a, name='Teleported Trace West'))\n",
    "fig.add_trace(go.Box(y=orig_b, name='Original Trace East'))\n",
    "fig.add_trace(go.Box(y=tele_b, name='Teleported Trace East'))\n",
    "fig.update_layout(showlegend=False, template='simple_white', margin={'l': 0,'r': 0, 'b': 0,'t': 0})\n",
    "fig.update_layout(font={'size': 24}, yaxis_title='Error (km)')\n",
    "fig.show()\n",
    "\n",
    "fig.write_image('plots/solar_teleport_localization.pdf')"
   ]
  },
  {
   "cell_type": "code",
   "execution_count": null,
   "metadata": {
    "execution": {
     "iopub.execute_input": "2022-04-29T00:35:09.813727Z",
     "iopub.status.busy": "2022-04-29T00:35:09.813255Z",
     "iopub.status.idle": "2022-04-29T00:35:09.832370Z",
     "shell.execute_reply": "2022-04-29T00:35:09.832697Z"
    }
   },
   "outputs": [],
   "source": [
    "avg_err = (np.abs(np.array(orig_a) - np.array(tele_a)).mean() + np.abs(np.array(orig_b) - np.array(tele_b)).mean())/2\n",
    "print(f'Average Error : {avg_err} km')"
   ]
  },
  {
   "cell_type": "code",
   "execution_count": null,
   "metadata": {
    "execution": {
     "iopub.execute_input": "2022-04-29T00:35:09.835804Z",
     "iopub.status.busy": "2022-04-29T00:35:09.835424Z",
     "iopub.status.idle": "2022-04-29T00:35:09.851242Z",
     "shell.execute_reply": "2022-04-29T00:35:09.851549Z"
    }
   },
   "outputs": [],
   "source": [
    "err_a = np.abs(np.array(orig_a) - np.array(tele_a)).mean()\n",
    "err_b = np.abs(np.array(orig_b) - np.array(tele_b)).mean()\n",
    "print(f'Error A: {err_a}km, Error B: {err_b} km')"
   ]
  },
  {
   "cell_type": "code",
   "execution_count": null,
   "metadata": {
    "execution": {
     "iopub.execute_input": "2022-04-29T00:35:09.854726Z",
     "iopub.status.busy": "2022-04-29T00:35:09.854353Z",
     "iopub.status.idle": "2022-04-29T00:35:09.871065Z",
     "shell.execute_reply": "2022-04-29T00:35:09.871398Z"
    }
   },
   "outputs": [],
   "source": [
    "rel_error = ((np.array(tele_a) - np.array(orig_a)) / np.abs(np.array(tele_a))).mean() * 100\n",
    "print(f'Relative Error A: {rel_error}%')\n",
    "rel_error = ((np.array(tele_b) - np.array(orig_b)) / np.abs(np.array(tele_b))).mean() * 100\n",
    "print(f'Relative Error B: {rel_error}%')"
   ]
  },
  {
   "cell_type": "code",
   "execution_count": null,
   "metadata": {
    "execution": {
     "iopub.execute_input": "2022-04-29T00:35:09.875121Z",
     "iopub.status.busy": "2022-04-29T00:35:09.874728Z",
     "iopub.status.idle": "2022-04-29T00:35:10.103449Z",
     "shell.execute_reply": "2022-04-29T00:35:10.102913Z"
    }
   },
   "outputs": [],
   "source": [
    "fig = go.Figure()\n",
    "fig.add_trace(go.Box(y=np.array(rse_tele_a), name='Teleported Trace East'))\n",
    "fig.add_trace(go.Box(y=np.array(rse_tele_b), name='Teleported Trace West'))\n",
    "fig.update_layout(showlegend=False, template='simple_white', margin={'l': 0,'r': 0, 'b': 0,'t': 0})\n",
    "fig.update_layout(font={'size': 24}, yaxis_title='Mean Absolute Error')\n",
    "fig.update_yaxes(range=[0, 0.12])\n",
    "fig.show()\n",
    "\n",
    "fig.write_image('plots/solar_teleport_mae.pdf')"
   ]
  }
 ],
 "metadata": {
  "kernelspec": {
   "display_name": "Python 3",
   "language": "python",
   "name": "python3"
  },
  "language_info": {
   "codemirror_mode": {
    "name": "ipython",
    "version": 3
   },
   "file_extension": ".py",
   "mimetype": "text/x-python",
   "name": "python",
   "nbconvert_exporter": "python",
   "pygments_lexer": "ipython3",
   "version": "3.8.13"
  }
 },
 "nbformat": 4,
 "nbformat_minor": 4
}
