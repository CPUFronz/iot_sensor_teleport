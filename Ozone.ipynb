{
 "cells": [
  {
   "cell_type": "code",
   "execution_count": null,
   "metadata": {
    "execution": {
     "iopub.execute_input": "2022-04-28T15:44:02.748100Z",
     "iopub.status.busy": "2022-04-28T15:44:02.746759Z",
     "iopub.status.idle": "2022-04-28T15:44:02.767790Z",
     "shell.execute_reply": "2022-04-28T15:44:02.766408Z"
    }
   },
   "outputs": [],
   "source": [
    "%load_ext autoreload\n",
    "%autoreload 2"
   ]
  },
  {
   "cell_type": "code",
   "execution_count": null,
   "metadata": {
    "execution": {
     "iopub.execute_input": "2022-04-28T15:44:02.778994Z",
     "iopub.status.busy": "2022-04-28T15:44:02.777627Z",
     "iopub.status.idle": "2022-04-28T15:44:03.643853Z",
     "shell.execute_reply": "2022-04-28T15:44:03.644141Z"
    }
   },
   "outputs": [],
   "source": [
    "import os\n",
    "import json\n",
    "\n",
    "import joblib\n",
    "import torch\n",
    "\n",
    "import numpy as np\n",
    "import pandas as pd\n",
    "import xgboost as xgb\n",
    "\n",
    "from scipy.stats import pearsonr\n",
    "\n",
    "from IPython.display import Image\n",
    "\n",
    "import plotly.graph_objects as go\n",
    "\n",
    "from utils import scale_data\n",
    "from utils import preprocess_CH_data\n",
    "from utils import set_seeds\n",
    "from utils import kriging_ch\n",
    "\n",
    "from utils import bayes_filter\n",
    "from utils import l2norm_km\n",
    "from utils import print_metrics\n",
    "\n",
    "from utils import train_teleport\n",
    "from utils import test_models"
   ]
  },
  {
   "cell_type": "code",
   "execution_count": null,
   "metadata": {
    "execution": {
     "iopub.execute_input": "2022-04-28T15:44:03.646753Z",
     "iopub.status.busy": "2022-04-28T15:44:03.646393Z",
     "iopub.status.idle": "2022-04-28T15:44:03.656776Z",
     "shell.execute_reply": "2022-04-28T15:44:03.656457Z"
    }
   },
   "outputs": [],
   "source": [
    "from constants import LOCATION_MAPPING_CH\n",
    "from constants import MIN_LON_CH\n",
    "from constants import MAX_LON_CH\n",
    "from constants import MIN_LAT_CH\n",
    "from constants import MAX_LAT_CH\n",
    "from constants import SIZE_X\n",
    "from constants import SIZE_Y\n",
    "\n",
    "from constants import SEED\n",
    "\n",
    "from constants import NUM_ESTIMATORS"
   ]
  },
  {
   "cell_type": "code",
   "execution_count": null,
   "metadata": {
    "execution": {
     "iopub.execute_input": "2022-04-28T15:44:03.659158Z",
     "iopub.status.busy": "2022-04-28T15:44:03.658791Z",
     "iopub.status.idle": "2022-04-28T15:44:03.668643Z",
     "shell.execute_reply": "2022-04-28T15:44:03.668929Z"
    }
   },
   "outputs": [],
   "source": [
    "pd.options.mode.chained_assignment = None "
   ]
  },
  {
   "cell_type": "code",
   "execution_count": null,
   "metadata": {
    "execution": {
     "iopub.execute_input": "2022-04-28T15:44:03.671458Z",
     "iopub.status.busy": "2022-04-28T15:44:03.671106Z",
     "iopub.status.idle": "2022-04-28T15:44:03.681808Z",
     "shell.execute_reply": "2022-04-28T15:44:03.681418Z"
    }
   },
   "outputs": [],
   "source": [
    "SENSOR_COLS = ['O3', 'YTD']\n",
    "TARGET = ['TEMP']\n",
    "X_WEST = 70\n",
    "X_EAST = 140\n",
    "CH_DATA = os.path.abspath('data/ch_data/*.csv')\n",
    "FN_MODEL_TELEPORT_OZONE = 'assets/ozone_models_teleport.pkl'\n",
    "FN_MODEL_H_OZONE = 'assets/ozone_models_H.pkl'"
   ]
  },
  {
   "cell_type": "markdown",
   "metadata": {},
   "source": [
    "# Prepare Data"
   ]
  },
  {
   "cell_type": "code",
   "execution_count": null,
   "metadata": {
    "execution": {
     "iopub.execute_input": "2022-04-28T15:44:03.684581Z",
     "iopub.status.busy": "2022-04-28T15:44:03.684177Z",
     "iopub.status.idle": "2022-04-28T15:44:03.695065Z",
     "shell.execute_reply": "2022-04-28T15:44:03.695371Z"
    }
   },
   "outputs": [],
   "source": [
    "set_seeds()"
   ]
  },
  {
   "cell_type": "code",
   "execution_count": null,
   "metadata": {
    "execution": {
     "iopub.execute_input": "2022-04-28T15:44:03.700309Z",
     "iopub.status.busy": "2022-04-28T15:44:03.699943Z",
     "iopub.status.idle": "2022-04-28T15:44:25.159345Z",
     "shell.execute_reply": "2022-04-28T15:44:25.158810Z"
    }
   },
   "outputs": [],
   "source": [
    "df = preprocess_CH_data(CH_DATA)\n",
    "\n",
    "df['datetime'] = pd.to_datetime(df['Datum/Zeit'], format='%d.%m.%Y')\n",
    "df, scaler = scale_data(df, SENSOR_COLS + TARGET)\n",
    "\n",
    "kriged_maps = {}\n",
    "for key in SENSOR_COLS + TARGET:\n",
    "    if key == 'YTD':\n",
    "        continue\n",
    "    \n",
    "    kriged_maps[key] = kriging_ch(df, key)\n",
    "    grid_x = np.arange(MIN_LON_CH, MAX_LON_CH, (MAX_LON_CH - MIN_LON_CH) / SIZE_X)\n",
    "    grid_y = np.arange(MIN_LAT_CH, MAX_LAT_CH, (MAX_LAT_CH - MIN_LAT_CH) / SIZE_Y)\n",
    "\n",
    "    for station in df['station'].unique():\n",
    "        lon = LOCATION_MAPPING_CH.loc[LOCATION_MAPPING_CH['station'] == station]['lon'].item()\n",
    "        lat = LOCATION_MAPPING_CH.loc[LOCATION_MAPPING_CH['station'] == station]['lat'].item()\n",
    "        real_x = np.abs(grid_x - lon).argmin()\n",
    "        real_y = np.abs(grid_y - lat).argmin()\n",
    "        df.loc[df['station'] == station, 'lon'] = lon\n",
    "        df.loc[df['station'] == station, 'lat'] = lat\n",
    "        df.loc[df['station'] == station, 'real_x'] = real_x\n",
    "        df.loc[df['station'] == station, 'real_y'] = real_y\n",
    "df = df[['datetime', 'station'] + SENSOR_COLS + TARGET + ['lon', 'lat', 'real_x', 'real_y']]"
   ]
  },
  {
   "cell_type": "code",
   "execution_count": null,
   "metadata": {
    "execution": {
     "iopub.execute_input": "2022-04-28T15:44:25.165606Z",
     "iopub.status.busy": "2022-04-28T15:44:25.165098Z",
     "iopub.status.idle": "2022-04-28T15:44:25.844281Z",
     "shell.execute_reply": "2022-04-28T15:44:25.844641Z"
    }
   },
   "outputs": [],
   "source": [
    "for station in df['station'].unique():\n",
    "    for x in [-1, 0, 1]:\n",
    "        for y in [-1, 0, 1]:\n",
    "            if x == 0 and y == 0:\n",
    "                continue\n",
    "                            \n",
    "            tmp_df = df.loc[df['station'] == station]\n",
    "            \n",
    "            new_x = int(tmp_df['real_x'].iloc[0] + x)\n",
    "            new_y = int(tmp_df['real_y'].iloc[0] + y)\n",
    "            tmp_df['real_x'] = new_x\n",
    "            tmp_df['real_y'] = new_y\n",
    "            tmp_df['station'] =  tmp_df['station'].iloc[0] + '_' + str(x) + '_' + str(y)\n",
    "            \n",
    "            for k in kriged_maps.keys():\n",
    "                tmp_df[k] = kriged_maps[k][:, new_x, new_y]\n",
    "                                \n",
    "            df = pd.concat([df, tmp_df])\n",
    "df = df.reset_index().drop(columns=['index'])"
   ]
  },
  {
   "cell_type": "code",
   "execution_count": null,
   "metadata": {
    "execution": {
     "iopub.execute_input": "2022-04-28T15:44:25.849714Z",
     "iopub.status.busy": "2022-04-28T15:44:25.849269Z",
     "iopub.status.idle": "2022-04-28T15:44:25.901302Z",
     "shell.execute_reply": "2022-04-28T15:44:25.900735Z"
    }
   },
   "outputs": [],
   "source": [
    "n_examples_data = len(df)\n",
    "val_examples_data = np.random.choice(df.index, int(n_examples_data * 0.3), replace=False)\n",
    "df_val_data = df.loc[df['station'].isin(df.iloc[val_examples_data]['station'].unique())]\n",
    "df_train_data = df.drop(val_examples_data)\n",
    "\n",
    "n_examples_station = len(df['station'].unique())\n",
    "val_examples_station = np.random.choice(df['station'].unique(), int(n_examples_station * 0.3), replace=False)\n",
    "df_val_station = df.loc[(df['station'].isin(val_examples_station))]\n",
    "df_train_station = df.loc[(~df['station'].isin(val_examples_station))]\n",
    "\n",
    "df_joined = df.query(f'real_x < {X_WEST} or real_x > {X_EAST}')\n",
    "n_examples_west = len(df_joined.query(f'real_x < {X_WEST}')['station'].unique())\n",
    "n_examples_east = len(df_joined.query(f'real_x > {X_EAST}')['station'].unique())\n",
    "val_examples_west = np.random.choice(df_joined['station'].unique(), int(n_examples_west * 0.3), replace=False)\n",
    "val_examples_east = np.random.choice(df_joined['station'].unique(), int(n_examples_east * 0.3), replace=False)"
   ]
  },
  {
   "cell_type": "code",
   "execution_count": null,
   "metadata": {
    "execution": {
     "iopub.execute_input": "2022-04-28T15:44:25.905396Z",
     "iopub.status.busy": "2022-04-28T15:44:25.904883Z",
     "iopub.status.idle": "2022-04-28T15:44:25.919781Z",
     "shell.execute_reply": "2022-04-28T15:44:25.919311Z"
    }
   },
   "outputs": [],
   "source": [
    "print(f'Total Stations: {n_examples_station:22}')\n",
    "print(f'Station Split Validation Stations: {len(val_examples_station):3}')\n",
    "print(f'Station Split Traning Stations: {n_examples_station-len(val_examples_station):6}')"
   ]
  },
  {
   "cell_type": "markdown",
   "metadata": {},
   "source": [
    "# Training\n",
    "## Train Model H"
   ]
  },
  {
   "cell_type": "code",
   "execution_count": null,
   "metadata": {
    "execution": {
     "iopub.execute_input": "2022-04-28T15:44:25.923814Z",
     "iopub.status.busy": "2022-04-28T15:44:25.923357Z",
     "iopub.status.idle": "2022-04-28T15:46:12.046566Z",
     "shell.execute_reply": "2022-04-28T15:46:12.046166Z"
    }
   },
   "outputs": [],
   "source": [
    "if not os.path.exists(FN_MODEL_H_OZONE):\n",
    "    models_H = {}\n",
    "    for n in ['data_split', 'station_split']:\n",
    "        if n == 'data_split':\n",
    "            X = df_train_data[SENSOR_COLS]\n",
    "            y = df_train_data[TARGET]\n",
    "        elif n == 'station_split':\n",
    "            X = df_train_station[SENSOR_COLS]\n",
    "            y = df_train_station[TARGET]\n",
    "\n",
    "        reg = xgb.XGBRegressor(n_estimators=NUM_ESTIMATORS, random_state=SEED, n_jobs=8)\n",
    "        reg.fit(X, y)\n",
    "\n",
    "        models_H[n]= reg\n",
    "    joblib.dump(models_H, FN_MODEL_H_OZONE)\n",
    "else:\n",
    "    models_H = joblib.load(FN_MODEL_H_OZONE)"
   ]
  },
  {
   "cell_type": "code",
   "execution_count": null,
   "metadata": {
    "execution": {
     "iopub.execute_input": "2022-04-28T15:46:12.049934Z",
     "iopub.status.busy": "2022-04-28T15:46:12.049491Z",
     "iopub.status.idle": "2022-04-28T15:46:42.014980Z",
     "shell.execute_reply": "2022-04-28T15:46:42.015616Z"
    },
    "scrolled": true
   },
   "outputs": [],
   "source": [
    "dist = {}\n",
    "\n",
    "for n in models_H:\n",
    "    if n == 'data_split':\n",
    "        df_val = df_val_data\n",
    "    elif n == 'station_split':\n",
    "        df_val = df_val_station\n",
    "    \n",
    "    dist[n] = print_metrics(df_val, 'station', models_H[n], SENSOR_COLS, TARGET, kriged_maps, scaler, 'S')"
   ]
  },
  {
   "cell_type": "markdown",
   "metadata": {},
   "source": [
    "## Train Teleport Models"
   ]
  },
  {
   "cell_type": "code",
   "execution_count": null,
   "metadata": {
    "execution": {
     "iopub.execute_input": "2022-04-28T15:46:42.020430Z",
     "iopub.status.busy": "2022-04-28T15:46:42.019796Z",
     "iopub.status.idle": "2022-04-28T15:46:42.055785Z",
     "shell.execute_reply": "2022-04-28T15:46:42.056313Z"
    }
   },
   "outputs": [],
   "source": [
    "df_train_west = df_joined.loc[~df_joined['station'].isin(val_examples_west)].query(f'real_x < {X_WEST}')\n",
    "df_train_east = df_joined.loc[~df_joined['station'].isin(val_examples_east)].query(f'real_x > {X_EAST}')\n",
    "df_val_west = df_joined.loc[(df_joined['station'].isin(val_examples_west))]\n",
    "df_val_east = df_joined.loc[(df_joined['station'].isin(val_examples_east))]"
   ]
  },
  {
   "cell_type": "code",
   "execution_count": null,
   "metadata": {
    "execution": {
     "iopub.execute_input": "2022-04-28T15:46:42.061077Z",
     "iopub.status.busy": "2022-04-28T15:46:42.060288Z",
     "iopub.status.idle": "2022-04-28T17:24:38.834495Z",
     "shell.execute_reply": "2022-04-28T17:24:38.833985Z"
    }
   },
   "outputs": [],
   "source": [
    "if not os.path.exists(FN_MODEL_TELEPORT_OZONE):\n",
    "    models_T = train_teleport(\n",
    "        df_train_west[SENSOR_COLS].to_numpy(),\n",
    "        df_train_east[SENSOR_COLS].to_numpy(),\n",
    "        df_val_west[SENSOR_COLS].to_numpy(),\n",
    "        df_val_east[SENSOR_COLS].to_numpy(),\n",
    "    )\n",
    "    joblib.dump(models_T, FN_MODEL_TELEPORT_OZONE)\n",
    "else:\n",
    "    models_T = joblib.load(FN_MODEL_TELEPORT_OZONE)\n",
    "    \n",
    "enc_a = models_T['enc_a']\n",
    "enc_b = models_T['enc_b']\n",
    "lat = models_T['lat']\n",
    "dec_a = models_T['dec_a']\n",
    "dec_b = models_T['dec_b']"
   ]
  },
  {
   "cell_type": "markdown",
   "metadata": {},
   "source": [
    "# Test"
   ]
  },
  {
   "cell_type": "code",
   "execution_count": null,
   "metadata": {
    "execution": {
     "iopub.execute_input": "2022-04-28T17:24:38.838540Z",
     "iopub.status.busy": "2022-04-28T17:24:38.838095Z",
     "iopub.status.idle": "2022-04-28T17:24:46.432083Z",
     "shell.execute_reply": "2022-04-28T17:24:46.431441Z"
    }
   },
   "outputs": [],
   "source": [
    "orig_a, tele_a, orig_b, tele_b, rse_tele_a, rse_tele_b, mae_ae = test_models(\n",
    "    'station', df_val_west, df_val_east, SENSOR_COLS, \n",
    "    models_H['data_split'], models_T,\n",
    "    kriged_maps['TEMP'], scaler, 'S'\n",
    ")"
   ]
  },
  {
   "cell_type": "code",
   "execution_count": null,
   "metadata": {
    "execution": {
     "iopub.execute_input": "2022-04-28T17:24:46.435569Z",
     "iopub.status.busy": "2022-04-28T17:24:46.435101Z",
     "iopub.status.idle": "2022-04-28T17:24:46.455323Z",
     "shell.execute_reply": "2022-04-28T17:24:46.454694Z"
    }
   },
   "outputs": [],
   "source": [
    "mae_ae = np.array(mae_ae)\n",
    "print(f'AutoEncoder MAE: {mae_ae.mean()}')"
   ]
  },
  {
   "cell_type": "code",
   "execution_count": null,
   "metadata": {
    "execution": {
     "iopub.execute_input": "2022-04-28T17:24:46.459519Z",
     "iopub.status.busy": "2022-04-28T17:24:46.458745Z",
     "iopub.status.idle": "2022-04-28T17:24:46.473372Z",
     "shell.execute_reply": "2022-04-28T17:24:46.473942Z"
    }
   },
   "outputs": [],
   "source": [
    "distance_ew = l2norm_km((X_WEST, 0), (X_EAST, 0), 'S')\n",
    "print(f'Distance East-West: {distance_ew}')"
   ]
  },
  {
   "cell_type": "markdown",
   "metadata": {},
   "source": [
    "# Plots"
   ]
  },
  {
   "cell_type": "code",
   "execution_count": null,
   "metadata": {
    "execution": {
     "iopub.execute_input": "2022-04-28T17:24:46.478325Z",
     "iopub.status.busy": "2022-04-28T17:24:46.477575Z",
     "iopub.status.idle": "2022-04-28T17:24:46.500712Z",
     "shell.execute_reply": "2022-04-28T17:24:46.499989Z"
    }
   },
   "outputs": [],
   "source": [
    "df_val = pd.concat([df_val_west, df_val_east]).reset_index().drop(columns=['index'])"
   ]
  },
  {
   "cell_type": "markdown",
   "metadata": {},
   "source": [
    "## Scatter Plot Real vs Predicted Values (Model H)"
   ]
  },
  {
   "cell_type": "code",
   "execution_count": null,
   "metadata": {
    "execution": {
     "iopub.execute_input": "2022-04-28T17:24:46.509974Z",
     "iopub.status.busy": "2022-04-28T17:24:46.509260Z",
     "iopub.status.idle": "2022-04-28T17:24:50.773678Z",
     "shell.execute_reply": "2022-04-28T17:24:50.774191Z"
    }
   },
   "outputs": [],
   "source": [
    "orig = []\n",
    "pred = []\n",
    "\n",
    "for _, tmp_df in df_val.groupby(['station']):\n",
    "    real_scaled = scaler.inverse_transform(tmp_df['TEMP'].to_numpy(), ['TEMP']).ravel()\n",
    "\n",
    "    w_prime = models_H['data_split'].predict(tmp_df[SENSOR_COLS])\n",
    "    w_prime_scaled = scaler.inverse_transform(w_prime, ['TEMP']).ravel()\n",
    "\n",
    "    pred.extend(w_prime_scaled + 273.15)\n",
    "    orig.extend(real_scaled + 273.15)\n",
    "    \n",
    "fig = go.Figure()\n",
    "fig.add_trace(go.Scatter(x=orig, y=np.array(pred).ravel(), mode='markers', name='Prediction'))\n",
    "\n",
    "fig.add_trace(go.Scatter(x=[260, 300], y=[260,300], mode='lines'))\n",
    "fig.update_layout(showlegend=False)\n",
    "\n",
    "fig.update_layout(autosize=False, width=500, height=500, font={'size': 24}, template='simple_white')\n",
    "fig.update_layout(margin={'l': 0,'r': 0, 'b': 0,'t': 0})\n",
    "fig.update_layout(xaxis_title='Real Temperature (K)', yaxis_title='Predicted Temperature (K)')\n",
    "img = fig.to_image(format=\"png\")\n",
    "with open('plots/ozone_weather_scatter.png', 'wb') as f:\n",
    "    f.write(img)\n",
    "Image(img)"
   ]
  },
  {
   "cell_type": "markdown",
   "metadata": {},
   "source": [
    "##  Localisation over Time"
   ]
  },
  {
   "cell_type": "code",
   "execution_count": null,
   "metadata": {
    "execution": {
     "iopub.execute_input": "2022-04-28T17:24:50.780669Z",
     "iopub.status.busy": "2022-04-28T17:24:50.780187Z",
     "iopub.status.idle": "2022-04-28T17:25:55.070887Z",
     "shell.execute_reply": "2022-04-28T17:25:55.070339Z"
    }
   },
   "outputs": [],
   "source": [
    "df_results = pd.DataFrame()\n",
    "durations = [7, 14, 31, 90, 180, 366]\n",
    "arguments = []\n",
    "\n",
    "for _, tmp_df in df_val.groupby(['station']):\n",
    "    real_x = int(tmp_df['real_x'].iloc[0])\n",
    "    real_y = int(tmp_df['real_y'].iloc[0])\n",
    "\n",
    "    for duration in durations:\n",
    "        for run in range(20):\n",
    "            if duration != 366:\n",
    "                max_time = kriged_maps['TEMP'].shape[0]\n",
    "                start = np.random.randint(0, max_time - duration)\n",
    "            else:\n",
    "                if duration == 366 and run == 0:\n",
    "                    start = 0\n",
    "                else:\n",
    "                    break\n",
    "\n",
    "            w_prime = models_H['data_split'].predict(tmp_df[SENSOR_COLS])\n",
    "            w_prime_range = w_prime[start:start+duration]\n",
    "            x, y = bayes_filter(w_prime_range, kriged_maps['TEMP'], start, duration)\n",
    "            distance = l2norm_km((real_x, real_y), (x, y), 'S')\n",
    "            result = {'station': station, 'real_x': real_x, 'real_y': real_y, 'pred_x': x, 'pred_y': y,\n",
    "                      'distance': distance, 'start': start, 'duration': duration, 'run': run}\n",
    "            df_results = df_results.append(pd.DataFrame(result, index=[0]))"
   ]
  },
  {
   "cell_type": "code",
   "execution_count": null,
   "metadata": {
    "execution": {
     "iopub.execute_input": "2022-04-28T17:25:55.076236Z",
     "iopub.status.busy": "2022-04-28T17:25:55.075716Z",
     "iopub.status.idle": "2022-04-28T17:25:55.557688Z",
     "shell.execute_reply": "2022-04-28T17:25:55.558171Z"
    }
   },
   "outputs": [],
   "source": [
    "fig = go.Figure()\n",
    "for dur in df_results['duration'].unique():\n",
    "    tmp_df = df_results.loc[df_results['duration']==dur]\n",
    "    fig.add_trace(go.Box(y=tmp_df['distance'], name=int(dur)))\n",
    "fig.update_layout(showlegend=False, template='simple_white', margin={'l': 0,'r': 0, 'b': 0,'t': 0})\n",
    "fig.update_layout(xaxis_title='Days', font={'size': 24})\n",
    "fig.update_yaxes(title_text='Error (km)', range=[0, 50])\n",
    "fig.show()\n",
    "\n",
    "fig.write_image('plots/ozone_localization.pdf')"
   ]
  },
  {
   "cell_type": "markdown",
   "metadata": {},
   "source": [
    "## Map of Switzerland"
   ]
  },
  {
   "cell_type": "code",
   "execution_count": null,
   "metadata": {
    "execution": {
     "iopub.execute_input": "2022-04-28T17:25:55.567904Z",
     "iopub.status.busy": "2022-04-28T17:25:55.567280Z",
     "iopub.status.idle": "2022-04-28T17:25:55.717491Z",
     "shell.execute_reply": "2022-04-28T17:25:55.717940Z"
    }
   },
   "outputs": [],
   "source": [
    "import json\n",
    "from constants import LOCATION_MAPPING_CH\n",
    "\n",
    "with open('assets/switzerland.geojson', 'r') as f:\n",
    "    swiss = json.load(f)\n",
    "\n",
    "marker_west = {'color': 'blue', 'size': 20}\n",
    "marker_east = {'color': 'red', 'size': 20}\n",
    "marker_middle = {'color': 'grey', 'size': 20}\n",
    "    \n",
    "df_stations = LOCATION_MAPPING_CH.loc[LOCATION_MAPPING_CH['station'].isin(df['station'].unique())]\n",
    "\n",
    "fig = go.Figure()\n",
    "\n",
    "fig = go.Figure()\n",
    "# add stations on the west\n",
    "fig.add_trace(go.Scattermapbox(lat=df[df.real_x < X_WEST].groupby('station').mean()['lat'],\n",
    "                               lon=df[df.real_x < X_WEST].groupby('station').mean()['lon'],\n",
    "                               marker=marker_west,\n",
    "                               name = \"West\")\n",
    "                               )\n",
    "# add stations in the middle\n",
    "fig.add_trace(go.Scattermapbox(lat=df[(df.real_x < X_EAST) & (df.real_x > X_WEST)].groupby('station').mean()['lat'],\n",
    "                               lon=df[(df.real_x < X_EAST) & (df.real_x > X_WEST)].groupby('station').mean()['lon'],\n",
    "                               marker=marker_middle,\n",
    "                               name = \"Middle\")\n",
    "                               )\n",
    "\n",
    "# add stations on the east\n",
    "fig.add_trace(go.Scattermapbox(lat=df[df.real_x > X_EAST].groupby('station').mean()['lat'],\n",
    "                               lon=df[df.real_x > X_EAST].groupby('station').mean()['lon'],\n",
    "                               marker=marker_east,\n",
    "                               name = \"East\")\n",
    "                               )\n",
    "\n",
    "fig.update_layout(\n",
    "    margin={\"r\":0,\"t\":0,\"l\":0,\"b\":0},\n",
    "    mapbox=go.layout.Mapbox(\n",
    "        style=\"stamen-terrain\", \n",
    "        zoom=6.9,\n",
    "        center_lat =  46.79,\n",
    "        center_lon = 8.23,\n",
    "        layers=[{\n",
    "            'sourcetype': 'geojson',\n",
    "            'source': swiss,\n",
    "            'type': 'line',\n",
    "        }]\n",
    "    )\n",
    ")\n",
    "fig.update_layout(legend=dict(\n",
    "    yanchor=\"top\",\n",
    "    y=0.99,\n",
    "    xanchor=\"left\",\n",
    "    x=0.01\n",
    "))\n",
    "fig.update_layout(mapbox_style='carto-positron')\n",
    "fig.show()"
   ]
  },
  {
   "cell_type": "markdown",
   "metadata": {},
   "source": [
    "## Original vs Teleported"
   ]
  },
  {
   "cell_type": "code",
   "execution_count": null,
   "metadata": {
    "execution": {
     "iopub.execute_input": "2022-04-28T17:25:55.723497Z",
     "iopub.status.busy": "2022-04-28T17:25:55.723070Z",
     "iopub.status.idle": "2022-04-28T17:25:56.055614Z",
     "shell.execute_reply": "2022-04-28T17:25:56.054800Z"
    }
   },
   "outputs": [],
   "source": [
    "tmp_df = df_val.loc[df_val['station'] == 'Magadino-Cadenazzo_0_-1']\n",
    "S_ab = torch.Tensor(tmp_df[SENSOR_COLS].to_numpy())\n",
    "with torch.no_grad():\n",
    "    s_tele_a = dec_b(lat(enc_a(S_ab)))\n",
    "S_ab = S_ab.numpy()\n",
    "s_tele_a = s_tele_a.numpy()\n",
    "\n",
    "fig = go.Figure()\n",
    "fig.add_trace(go.Scatter(y=scaler.inverse_transform(S_ab[:, 0], [SENSOR_COLS[0]]).squeeze() + 273.15, name='Original', line=dict(width=3)))\n",
    "fig.add_trace(go.Scatter(y=scaler.inverse_transform(s_tele_a[:, 0], [SENSOR_COLS[0]]).squeeze() + 273.15, name='Teleported'))\n",
    "fig.update_layout(template='simple_white', margin={'l': 0,'r': 0, 'b': 0,'t': 0})\n",
    "fig.update_layout(font={'size': 24}, xaxis_title='Days', yaxis_title='Ozone (µg/m³)')\n",
    "fig.update_layout(legend={'orientation': 'h', 'yanchor': 'bottom', 'y': 1.02, 'xanchor': 'right', 'x': 1})\n",
    "fig.show()\n",
    "fig.write_image('plots/ozone_teleport_sample.pdf')"
   ]
  },
  {
   "cell_type": "code",
   "execution_count": null,
   "metadata": {
    "execution": {
     "iopub.execute_input": "2022-04-28T17:25:56.059018Z",
     "iopub.status.busy": "2022-04-28T17:25:56.058561Z",
     "iopub.status.idle": "2022-04-28T17:25:56.077358Z",
     "shell.execute_reply": "2022-04-28T17:25:56.077779Z"
    }
   },
   "outputs": [],
   "source": [
    "pearsonr(S_ab[:, 0], s_tele_a[:, 0])"
   ]
  },
  {
   "cell_type": "markdown",
   "metadata": {},
   "source": [
    "## Distance from Teleported"
   ]
  },
  {
   "cell_type": "code",
   "execution_count": null,
   "metadata": {
    "execution": {
     "iopub.execute_input": "2022-04-28T17:25:56.082139Z",
     "iopub.status.busy": "2022-04-28T17:25:56.081738Z",
     "iopub.status.idle": "2022-04-28T17:25:56.215511Z",
     "shell.execute_reply": "2022-04-28T17:25:56.215003Z"
    }
   },
   "outputs": [],
   "source": [
    "stations_west = df_val_west['station'].unique()\n",
    "stations_east = df_val_east['station'].unique()\n",
    "station_distances = []\n",
    "\n",
    "for i in range(len(stations_west)):\n",
    "    tmp_df = df_val.loc[df_val['station'] == stations_west[i]]\n",
    "    x_A = tmp_df['real_x'].iloc[0]\n",
    "    y_A = tmp_df['real_y'].iloc[0]\n",
    "    for i in range(len(stations_east)):\n",
    "        tmp_df = df_val.loc[df_val['station'] == stations_east[i]]\n",
    "        x_B = tmp_df['real_x'].iloc[0]\n",
    "        y_B = tmp_df['real_y'].iloc[0]\n",
    "        \n",
    "        station_distances.append(l2norm_km((x_A, y_A), (x_B, y_B), 'S'))"
   ]
  },
  {
   "cell_type": "code",
   "execution_count": null,
   "metadata": {
    "execution": {
     "iopub.execute_input": "2022-04-28T17:25:56.219902Z",
     "iopub.status.busy": "2022-04-28T17:25:56.219478Z",
     "iopub.status.idle": "2022-04-28T17:25:56.504098Z",
     "shell.execute_reply": "2022-04-28T17:25:56.504662Z"
    }
   },
   "outputs": [],
   "source": [
    "fig = go.Figure()\n",
    "fig.add_trace(go.Box(y=station_distances, name='Station Distances'))\n",
    "fig.add_trace(go.Box(y=orig_a, name='Original Trace West'))\n",
    "fig.add_trace(go.Box(y=tele_a, name='Teleported Trace West'))\n",
    "fig.add_trace(go.Box(y=orig_b, name='Original Trace East'))\n",
    "fig.add_trace(go.Box(y=tele_b, name='Teleported Trace East'))\n",
    "fig.update_layout(showlegend=False, template='simple_white', margin={'l': 0,'r': 0, 'b': 0,'t': 0})\n",
    "fig.update_layout(font={'size': 24}, yaxis_title='Error (km)')\n",
    "fig.show()\n",
    "\n",
    "fig.write_image('plots/ozone_teleport_localization.pdf')"
   ]
  },
  {
   "cell_type": "code",
   "execution_count": null,
   "metadata": {
    "execution": {
     "iopub.execute_input": "2022-04-28T17:25:56.509394Z",
     "iopub.status.busy": "2022-04-28T17:25:56.508612Z",
     "iopub.status.idle": "2022-04-28T17:25:56.529059Z",
     "shell.execute_reply": "2022-04-28T17:25:56.529487Z"
    }
   },
   "outputs": [],
   "source": [
    "avg_err = (np.abs(np.array(orig_a) - np.array(tele_a)).mean() + np.abs(np.array(orig_b) - np.array(tele_b)).mean())/2\n",
    "print(f'Average Error : {avg_err} km')"
   ]
  },
  {
   "cell_type": "code",
   "execution_count": null,
   "metadata": {
    "execution": {
     "iopub.execute_input": "2022-04-28T17:25:56.533268Z",
     "iopub.status.busy": "2022-04-28T17:25:56.532661Z",
     "iopub.status.idle": "2022-04-28T17:25:56.549416Z",
     "shell.execute_reply": "2022-04-28T17:25:56.548994Z"
    }
   },
   "outputs": [],
   "source": [
    "err_a = np.abs(np.array(orig_a) - np.array(tele_a)).mean()\n",
    "err_b = np.abs(np.array(orig_b) - np.array(tele_b)).mean()\n",
    "print(f'Error A: {err_a} km Err B: {err_b} km')"
   ]
  },
  {
   "cell_type": "code",
   "execution_count": null,
   "metadata": {
    "execution": {
     "iopub.execute_input": "2022-04-28T17:25:56.553163Z",
     "iopub.status.busy": "2022-04-28T17:25:56.552582Z",
     "iopub.status.idle": "2022-04-28T17:25:56.570644Z",
     "shell.execute_reply": "2022-04-28T17:25:56.570195Z"
    }
   },
   "outputs": [],
   "source": [
    "rel_error = ((np.array(tele_a) - np.array(orig_a)) / np.abs(np.array(tele_a))).mean() * 100\n",
    "print(f'Relative Error A: {rel_error}%')\n",
    "rel_error = ((np.array(tele_b) - np.array(orig_b)) / np.abs(np.array(tele_b))).mean() * 100\n",
    "print(f'Relative Error B: {rel_error}%')"
   ]
  },
  {
   "cell_type": "code",
   "execution_count": null,
   "metadata": {
    "execution": {
     "iopub.execute_input": "2022-04-28T17:25:56.575187Z",
     "iopub.status.busy": "2022-04-28T17:25:56.574523Z",
     "iopub.status.idle": "2022-04-28T17:25:56.814834Z",
     "shell.execute_reply": "2022-04-28T17:25:56.814139Z"
    },
    "scrolled": false
   },
   "outputs": [],
   "source": [
    "fig = go.Figure()\n",
    "fig.add_trace(go.Box(y=np.array(rse_tele_a), name='Teleported Trace West'))\n",
    "fig.add_trace(go.Box(y=np.array(rse_tele_b), name='Teleported Trace East'))\n",
    "fig.update_layout(showlegend=False, template='simple_white', margin={'l': 0,'r': 0, 'b': 0,'t': 0})\n",
    "fig.update_layout(font={'size': 24}, yaxis_title='Mean Absolute Error')\n",
    "fig.update_yaxes(range=[0, 0.12])\n",
    "fig.show()\n",
    "\n",
    "fig.write_image('plots/ozone_teleport_mae.pdf')"
   ]
  }
 ],
 "metadata": {
  "kernelspec": {
   "display_name": "Python 3",
   "language": "python",
   "name": "python3"
  },
  "language_info": {
   "codemirror_mode": {
    "name": "ipython",
    "version": 3
   },
   "file_extension": ".py",
   "mimetype": "text/x-python",
   "name": "python",
   "nbconvert_exporter": "python",
   "pygments_lexer": "ipython3",
   "version": "3.8.13"
  }
 },
 "nbformat": 4,
 "nbformat_minor": 4
}
