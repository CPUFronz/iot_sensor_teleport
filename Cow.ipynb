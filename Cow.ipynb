{
 "cells": [
  {
   "cell_type": "code",
   "execution_count": null,
   "metadata": {
    "execution": {
     "iopub.execute_input": "2022-04-28T17:26:01.608121Z",
     "iopub.status.busy": "2022-04-28T17:26:01.607370Z",
     "iopub.status.idle": "2022-04-28T17:26:01.623660Z",
     "shell.execute_reply": "2022-04-28T17:26:01.621604Z"
    }
   },
   "outputs": [],
   "source": [
    "%load_ext autoreload\n",
    "%autoreload 2"
   ]
  },
  {
   "cell_type": "code",
   "execution_count": null,
   "metadata": {
    "execution": {
     "iopub.execute_input": "2022-04-28T17:26:01.645055Z",
     "iopub.status.busy": "2022-04-28T17:26:01.636528Z",
     "iopub.status.idle": "2022-04-28T17:26:02.645225Z",
     "shell.execute_reply": "2022-04-28T17:26:02.644709Z"
    }
   },
   "outputs": [],
   "source": [
    "import os\n",
    "#import time\n",
    "import json\n",
    "\n",
    "import joblib\n",
    "import torch\n",
    "\n",
    "import numpy as np\n",
    "import pandas as pd\n",
    "import xgboost as xgb\n",
    "\n",
    "from scipy.stats import pearsonr\n",
    "\n",
    "from IPython.display import Image\n",
    "\n",
    "import plotly.graph_objects as go\n",
    "\n",
    "from utils import scale_data\n",
    "from utils import preprocess_AUT_data\n",
    "from utils import set_seeds\n",
    "\n",
    "from utils import bayes_filter\n",
    "from utils import l2norm_km\n",
    "from utils import print_metrics\n",
    "\n",
    "from utils import train_teleport\n",
    "from utils import test_models"
   ]
  },
  {
   "cell_type": "code",
   "execution_count": null,
   "metadata": {
    "execution": {
     "iopub.execute_input": "2022-04-28T17:26:02.648297Z",
     "iopub.status.busy": "2022-04-28T17:26:02.647836Z",
     "iopub.status.idle": "2022-04-28T17:26:02.659267Z",
     "shell.execute_reply": "2022-04-28T17:26:02.658862Z"
    }
   },
   "outputs": [],
   "source": [
    "from constants import SEED\n",
    "\n",
    "from constants import NUM_ESTIMATORS"
   ]
  },
  {
   "cell_type": "code",
   "execution_count": null,
   "metadata": {
    "execution": {
     "iopub.execute_input": "2022-04-28T17:26:02.661914Z",
     "iopub.status.busy": "2022-04-28T17:26:02.661553Z",
     "iopub.status.idle": "2022-04-28T17:26:02.672819Z",
     "shell.execute_reply": "2022-04-28T17:26:02.672378Z"
    }
   },
   "outputs": [],
   "source": [
    "SENSOR_COLS = ['act', 'YTD']\n",
    "TARGET = ['Temperature']\n",
    "X_WEST = 120\n",
    "X_EAST = 160\n",
    "DF_COW = 'df_cow.csv'\n",
    "FN_KRIGED_COW = 'assets/cow_maps.npy'\n",
    "FN_MODELS_H_COW = 'assets/cow_models_H.pkl'\n",
    "FN_MODEL_TELEPORT_COW = 'assets/cow_models_teleport.pkl'"
   ]
  },
  {
   "cell_type": "markdown",
   "metadata": {},
   "source": [
    "# Prepare Data"
   ]
  },
  {
   "cell_type": "code",
   "execution_count": null,
   "metadata": {
    "execution": {
     "iopub.execute_input": "2022-04-28T17:26:02.675590Z",
     "iopub.status.busy": "2022-04-28T17:26:02.675217Z",
     "iopub.status.idle": "2022-04-28T17:26:02.686452Z",
     "shell.execute_reply": "2022-04-28T17:26:02.686040Z"
    }
   },
   "outputs": [],
   "source": [
    "set_seeds()"
   ]
  },
  {
   "cell_type": "code",
   "execution_count": null,
   "metadata": {
    "execution": {
     "iopub.execute_input": "2022-04-28T17:26:02.689669Z",
     "iopub.status.busy": "2022-04-28T17:26:02.689288Z",
     "iopub.status.idle": "2022-04-28T17:36:03.556455Z",
     "shell.execute_reply": "2022-04-28T17:36:03.555975Z"
    },
    "scrolled": true
   },
   "outputs": [],
   "source": [
    "if not os.path.exists(DF_COW) or not os.path.exists(FN_KRIGED_COW):\n",
    "    df, kriged_maps = preprocess_AUT_data('animal_id', SENSOR_COLS, TARGET, ['animal_id', 'datetime', 'postal_code'])\n",
    "    df.to_csv(DF_COW, index=False)\n",
    "    joblib.dump(kriged_maps, FN_KRIGED_COW)\n",
    "\n",
    "df = pd.read_csv(DF_COW)\n",
    "df, scaler = scale_data(df, SENSOR_COLS + TARGET)\n",
    "\n",
    "kriged_maps = joblib.load(FN_KRIGED_COW)"
   ]
  },
  {
   "cell_type": "code",
   "execution_count": null,
   "metadata": {
    "execution": {
     "iopub.execute_input": "2022-04-28T17:36:03.561783Z",
     "iopub.status.busy": "2022-04-28T17:36:03.561335Z",
     "iopub.status.idle": "2022-04-28T17:36:03.620605Z",
     "shell.execute_reply": "2022-04-28T17:36:03.620216Z"
    }
   },
   "outputs": [],
   "source": [
    "n_examples_data = len(df)\n",
    "val_examples_data = np.random.choice(df.index, int(n_examples_data * 0.3), replace=False)\n",
    "df_val_data = df.loc[df.index.isin(val_examples_data)]\n",
    "df_train_data = df.loc[~df.index.isin(val_examples_data)]\n",
    "\n",
    "df_joined = df.query(f'real_x < {X_WEST} or real_x > {X_EAST}')\n",
    "n_examples_west = len(df_joined.query(f'real_x < {X_WEST}')['animal_id'].unique())\n",
    "n_examples_east = len(df_joined.query(f'real_x > {X_EAST}')['animal_id'].unique())\n",
    "val_examples_west = np.random.choice(df_joined.query(f'real_x < {X_WEST}')['animal_id'].unique(), int(n_examples_west * 0.3), replace=False)\n",
    "val_examples_east = np.random.choice(df_joined.query(f'real_x > {X_EAST}')['animal_id'].unique(), int(n_examples_east * 0.3), replace=False)\n",
    "\n",
    "n_examples_animal = len(df['animal_id'].unique())\n",
    "val_examples_animal = np.random.choice(df['animal_id'].unique(), int(n_examples_animal * 0.3), replace=False)\n",
    "df_val_animal = df.loc[(df['animal_id'].isin(val_examples_animal))]\n",
    "df_train_animal = df.loc[(~df['animal_id'].isin(val_examples_animal))]"
   ]
  },
  {
   "cell_type": "markdown",
   "metadata": {},
   "source": [
    "# Training\n",
    "## Train Model H"
   ]
  },
  {
   "cell_type": "code",
   "execution_count": null,
   "metadata": {
    "execution": {
     "iopub.execute_input": "2022-04-28T17:36:03.624696Z",
     "iopub.status.busy": "2022-04-28T17:36:03.624255Z",
     "iopub.status.idle": "2022-04-28T17:38:59.532531Z",
     "shell.execute_reply": "2022-04-28T17:38:59.533000Z"
    }
   },
   "outputs": [],
   "source": [
    "if not os.path.exists(FN_MODELS_H_COW):\n",
    "    models_H = {}\n",
    "    for n in ['data_split', 'animal_split']:\n",
    "        if n == 'data_split':\n",
    "            X = df_train_data[SENSOR_COLS]\n",
    "            y = df_train_data[TARGET]\n",
    "        elif n == 'animal_split':\n",
    "            X = df_train_animal[SENSOR_COLS]\n",
    "            y = df_train_animal[TARGET]\n",
    "\n",
    "        reg = xgb.XGBRegressor(n_estimators=NUM_ESTIMATORS, random_state=SEED, n_jobs=8)\n",
    "        reg.fit(X, y)\n",
    "\n",
    "        models_H[n] = reg\n",
    "    joblib.dump(models_H, FN_MODELS_H_COW)\n",
    "else:\n",
    "    models_H = joblib.load(FN_MODELS_H_COW)"
   ]
  },
  {
   "cell_type": "code",
   "execution_count": null,
   "metadata": {
    "execution": {
     "iopub.execute_input": "2022-04-28T17:38:59.538409Z",
     "iopub.status.busy": "2022-04-28T17:38:59.537538Z",
     "iopub.status.idle": "2022-04-28T17:39:51.679569Z",
     "shell.execute_reply": "2022-04-28T17:39:51.678412Z"
    }
   },
   "outputs": [],
   "source": [
    "dist = {}\n",
    "\n",
    "for n in models_H:\n",
    "    if n == 'data_split':        \n",
    "        df_val_data_examples = df_val_data['animal_id'].unique()\n",
    "        df_val = df.loc[df['animal_id'].isin(df_val_data_examples)]\n",
    "    elif n == 'animal_split':\n",
    "        df_val = df_val_animal\n",
    "    \n",
    "    dist[n] = print_metrics(df_val, 'animal_id', models_H[n], SENSOR_COLS, TARGET, kriged_maps, scaler, 'A')"
   ]
  },
  {
   "cell_type": "markdown",
   "metadata": {},
   "source": [
    "## Train Teleport Models"
   ]
  },
  {
   "cell_type": "code",
   "execution_count": null,
   "metadata": {
    "execution": {
     "iopub.execute_input": "2022-04-28T17:39:51.686162Z",
     "iopub.status.busy": "2022-04-28T17:39:51.685419Z",
     "iopub.status.idle": "2022-04-28T17:39:51.727160Z",
     "shell.execute_reply": "2022-04-28T17:39:51.726570Z"
    }
   },
   "outputs": [],
   "source": [
    "df_train_west = df_joined.loc[~df_joined['animal_id'].isin(val_examples_west)].query(f'real_x < {X_WEST}')\n",
    "df_train_east = df_joined.loc[~df_joined['animal_id'].isin(val_examples_east)].query(f'real_x > {X_EAST}')\n",
    "df_val_west = df_joined.loc[df_joined['animal_id'].isin(val_examples_west)]\n",
    "df_val_east = df_joined.loc[df_joined['animal_id'].isin(val_examples_east)]"
   ]
  },
  {
   "cell_type": "code",
   "execution_count": null,
   "metadata": {
    "execution": {
     "iopub.execute_input": "2022-04-28T17:39:51.732009Z",
     "iopub.status.busy": "2022-04-28T17:39:51.731503Z",
     "iopub.status.idle": "2022-04-28T22:40:25.431773Z",
     "shell.execute_reply": "2022-04-28T22:40:25.431014Z"
    },
    "scrolled": true
   },
   "outputs": [],
   "source": [
    "if not os.path.exists(FN_MODEL_TELEPORT_COW):\n",
    "    models_T = train_teleport(\n",
    "        df_train_west[SENSOR_COLS].to_numpy(),\n",
    "        df_train_east[SENSOR_COLS].to_numpy(),\n",
    "        df_val_west[SENSOR_COLS].to_numpy(),\n",
    "        df_val_east[SENSOR_COLS].to_numpy()\n",
    "    )\n",
    "    joblib.dump(models_T, FN_MODEL_TELEPORT_COW)\n",
    "else:\n",
    "    models_T = joblib.load(FN_MODEL_TELEPORT_COW)\n",
    "    \n",
    "enc_a = models_T['enc_a']\n",
    "enc_b = models_T['enc_b']\n",
    "lat = models_T['lat']\n",
    "dec_a = models_T['dec_a']\n",
    "dec_b = models_T['dec_b']"
   ]
  },
  {
   "cell_type": "markdown",
   "metadata": {},
   "source": [
    "# Test"
   ]
  },
  {
   "cell_type": "code",
   "execution_count": null,
   "metadata": {
    "execution": {
     "iopub.execute_input": "2022-04-28T22:40:25.435787Z",
     "iopub.status.busy": "2022-04-28T22:40:25.435152Z",
     "iopub.status.idle": "2022-04-28T22:40:37.233196Z",
     "shell.execute_reply": "2022-04-28T22:40:37.232554Z"
    }
   },
   "outputs": [],
   "source": [
    "orig_a, tele_a, orig_b, tele_b, rse_tele_a, rse_tele_b, mae_ae = test_models(\n",
    "    'animal_id', df_val_west, df_val_east, SENSOR_COLS, \n",
    "    models_H['data_split'], models_T,\n",
    "    kriged_maps['Temperature'], scaler,'A'\n",
    ")"
   ]
  },
  {
   "cell_type": "code",
   "execution_count": null,
   "metadata": {
    "execution": {
     "iopub.execute_input": "2022-04-28T22:40:37.236626Z",
     "iopub.status.busy": "2022-04-28T22:40:37.236073Z",
     "iopub.status.idle": "2022-04-28T22:40:37.250286Z",
     "shell.execute_reply": "2022-04-28T22:40:37.249664Z"
    }
   },
   "outputs": [],
   "source": [
    "mae_ae = np.array(mae_ae)\n",
    "print(f'AutoEncoder MAE: {mae_ae.mean()}')"
   ]
  },
  {
   "cell_type": "code",
   "execution_count": null,
   "metadata": {
    "execution": {
     "iopub.execute_input": "2022-04-28T22:40:37.253495Z",
     "iopub.status.busy": "2022-04-28T22:40:37.252890Z",
     "iopub.status.idle": "2022-04-28T22:40:37.267307Z",
     "shell.execute_reply": "2022-04-28T22:40:37.266665Z"
    }
   },
   "outputs": [],
   "source": [
    "distance_ew = l2norm_km((X_WEST, 0), (X_EAST, 0), 'A')\n",
    "print(f'Distance East-West: {distance_ew}')"
   ]
  },
  {
   "cell_type": "markdown",
   "metadata": {},
   "source": [
    "# Plots\n"
   ]
  },
  {
   "cell_type": "code",
   "execution_count": null,
   "metadata": {
    "execution": {
     "iopub.execute_input": "2022-04-28T22:40:37.270540Z",
     "iopub.status.busy": "2022-04-28T22:40:37.269968Z",
     "iopub.status.idle": "2022-04-28T22:40:37.288599Z",
     "shell.execute_reply": "2022-04-28T22:40:37.287962Z"
    }
   },
   "outputs": [],
   "source": [
    "df_val = pd.concat([df_val_west, df_val_east]).reset_index().drop(columns=['index'])"
   ]
  },
  {
   "cell_type": "markdown",
   "metadata": {},
   "source": [
    "## Scatter Plot Real vs Predicted Values (Model H)"
   ]
  },
  {
   "cell_type": "code",
   "execution_count": null,
   "metadata": {
    "execution": {
     "iopub.execute_input": "2022-04-28T22:40:37.295752Z",
     "iopub.status.busy": "2022-04-28T22:40:37.295150Z",
     "iopub.status.idle": "2022-04-28T22:40:41.902923Z",
     "shell.execute_reply": "2022-04-28T22:40:41.903276Z"
    },
    "scrolled": false
   },
   "outputs": [],
   "source": [
    "orig = []\n",
    "pred = []\n",
    "\n",
    "for _, tmp_df in df_val.groupby(['animal_id']):\n",
    "    real_scaled = scaler.inverse_transform(tmp_df['Temperature'].to_numpy(), ['Temperature'])\n",
    "    orig.extend(real_scaled.ravel())\n",
    "\n",
    "    w_prime = models_H['data_split'].predict(tmp_df[SENSOR_COLS])\n",
    "    w_prime_scaled = scaler.inverse_transform(w_prime, ['Temperature'])\n",
    "    pred.extend(w_prime_scaled.ravel())\n",
    "    \n",
    "fig = go.Figure()\n",
    "fig.add_trace(go.Scatter(x=orig, y=np.array(pred).ravel(), mode='markers', name='Prediction'))\n",
    "\n",
    "fig.add_trace(go.Scatter(x=[260, 300], y=[260, 300], mode='lines'))\n",
    "fig.update_layout(showlegend=False)\n",
    "\n",
    "fig.update_layout(autosize=False, width=500, height=500, font={'size': 24}, template='simple_white')\n",
    "fig.update_layout(margin={'l': 0,'r': 0, 'b': 0,'t': 0})\n",
    "fig.update_layout(xaxis_title='Real Temperature (K)', yaxis_title='Predicted Temperature (K)')\n",
    "img = fig.to_image(format=\"png\")\n",
    "with open('plots/cow_weather_scatter.png', 'wb') as f:\n",
    "    f.write(img)\n",
    "Image(img)"
   ]
  },
  {
   "cell_type": "markdown",
   "metadata": {},
   "source": [
    "##  Localisation over Time"
   ]
  },
  {
   "cell_type": "code",
   "execution_count": null,
   "metadata": {
    "execution": {
     "iopub.execute_input": "2022-04-28T22:40:41.910427Z",
     "iopub.status.busy": "2022-04-28T22:40:41.909670Z",
     "iopub.status.idle": "2022-04-28T22:41:55.945692Z",
     "shell.execute_reply": "2022-04-28T22:41:55.944939Z"
    }
   },
   "outputs": [],
   "source": [
    "df_results = pd.DataFrame()\n",
    "results = []\n",
    "durations = [7, 14, 31, 90, 180, 365]\n",
    "        \n",
    "for animal_id, tmp_df in df_val.groupby(['animal_id']):\n",
    "    real_x = int(tmp_df['real_x'].iloc[0])\n",
    "    real_y = int(tmp_df['real_y'].iloc[0])\n",
    "    postal_code = int(tmp_df['postal_code'].iloc[0])\n",
    "\n",
    "    for duration in durations:\n",
    "        for run in range(20):\n",
    "            if duration != 365:\n",
    "                max_time = kriged_maps['Temperature'].shape[0]\n",
    "                start = np.random.randint(0, max_time - duration)\n",
    "            else:\n",
    "                if duration == 365 and run == 0:\n",
    "                    start = 0\n",
    "                else:\n",
    "                    break\n",
    "\n",
    "            w_prime_range = models_H['data_split'].predict(tmp_df[SENSOR_COLS].iloc[start:start+duration])\n",
    "            x, y = bayes_filter(w_prime_range, kriged_maps['Temperature'], start, duration)\n",
    "            dist = l2norm_km((real_x, real_y), (x, y), 'A')\n",
    "            res = {'animal_id': animal_id, 'dist': dist, 'pred_x': x, 'pred_y': y, 'zip': postal_code,\n",
    "                   'real_x': real_x, 'real_y': real_y, 'run': run, 'duration': duration, 'start': start}\n",
    "            results.append(res)\n",
    "                \n",
    "df_results = pd.DataFrame(results)"
   ]
  },
  {
   "cell_type": "code",
   "execution_count": null,
   "metadata": {
    "execution": {
     "iopub.execute_input": "2022-04-28T22:41:55.952712Z",
     "iopub.status.busy": "2022-04-28T22:41:55.951772Z",
     "iopub.status.idle": "2022-04-28T22:41:56.200236Z",
     "shell.execute_reply": "2022-04-28T22:41:56.200773Z"
    }
   },
   "outputs": [],
   "source": [
    "fig = go.Figure()\n",
    "for duration in durations:\n",
    "    fig.add_trace(go.Box(y=df_results.loc[df_results['duration']==duration, 'dist'], name=duration))\n",
    "fig.update_layout(showlegend=False, template='simple_white')\n",
    "fig.update_layout(xaxis_title='Days', font={'size': 24}, margin={'l': 0,'r': 0, 'b': 0,'t': 0})\n",
    "fig.update_yaxes(title_text='Error (km)', range=[0, 100])\n",
    "fig.show()"
   ]
  },
  {
   "cell_type": "code",
   "execution_count": null,
   "metadata": {
    "execution": {
     "iopub.execute_input": "2022-04-28T22:41:56.208119Z",
     "iopub.status.busy": "2022-04-28T22:41:56.207612Z",
     "iopub.status.idle": "2022-04-28T22:41:56.996219Z",
     "shell.execute_reply": "2022-04-28T22:41:56.996728Z"
    }
   },
   "outputs": [],
   "source": [
    "regions = {'West': [4091, 4793, 5300, 4754, 5211],\n",
    "           'East': [8063, 8232, 3610, 3720, 8162]}\n",
    "\n",
    "plz_map = {4091: 'Farm 1', 4793: 'Farm 2', 5300: 'Farm 3', 4754: 'Farm 4', 5211: 'Farm 5',\n",
    "           8063: 'Farm 1', 8232: 'Farm 2', 3610: 'Farm 3', 3720: 'Farm 4', 8162: 'Farm 5'}\n",
    "\n",
    "for k, region in regions.items():\n",
    "    fig = go.Figure()\n",
    "\n",
    "    for duration in df_results['duration'].unique():\n",
    "        for plz in region:\n",
    "            results = df_results.loc[(df_results['duration'] == duration) & (df_results['zip'] == plz)]['dist'].to_numpy()\n",
    "            x = [[plz_map[plz]]*len(results), ['{:3d} days'.format(int(duration))]*len(results)]\n",
    "            fig.add_trace(go.Box(y=results, x=x, name='Days: {:3d}'.format(int(duration)), showlegend=False))\n",
    "    fig.update_layout(margin={'l': 0,'r': 0, 'b': 0,'t': 0}, font={'size': 16})\n",
    "    fig.update_yaxes(title='Error (km)', range=[0, 250])\n",
    "    fig.show()\n",
    "    \n",
    "    fig.write_image('plots/cow_localization_{:}.pdf'.format(k))"
   ]
  },
  {
   "cell_type": "markdown",
   "metadata": {},
   "source": [
    "## Map of Austria"
   ]
  },
  {
   "cell_type": "code",
   "execution_count": null,
   "metadata": {
    "execution": {
     "iopub.execute_input": "2022-04-28T22:41:57.004276Z",
     "iopub.status.busy": "2022-04-28T22:41:57.003779Z",
     "iopub.status.idle": "2022-04-28T22:41:57.550709Z",
     "shell.execute_reply": "2022-04-28T22:41:57.551162Z"
    }
   },
   "outputs": [],
   "source": [
    "with open('assets/austria.geojson', 'r') as f:\n",
    "    austria = json.load(f)\n",
    "\n",
    "marker_west = {'color': 'blue', 'size': 20}\n",
    "marker_east = {'color': 'red', 'size': 20}\n",
    "marker_middle = {'color': 'grey', 'size': 20}\n",
    "\n",
    "fig = go.Figure()\n",
    "# add stations on the west\n",
    "fig.add_trace(go.Scattermapbox(lat=df[df.real_x < X_WEST].groupby('animal_id').mean()['lat'],\n",
    "                               lon=df[df.real_x < X_WEST].groupby('animal_id').mean()['lon'],\n",
    "                               marker=marker_west,\n",
    "                               name = \"West\")\n",
    "                               )\n",
    "\n",
    "# add stations in the middle\n",
    "fig.add_trace(go.Scattermapbox(lat=df[(df.real_x < X_EAST) & (df.real_x > X_WEST)].groupby('animal_id').mean()['lat'],\n",
    "                               lon=df[(df.real_x < X_EAST) & (df.real_x > X_WEST)].groupby('animal_id').mean()['lon'],\n",
    "                               marker=marker_middle,\n",
    "                               name = \"Middle\")\n",
    "                               )\n",
    "\n",
    "# add stations on the east\n",
    "fig.add_trace(go.Scattermapbox(lat=df[df.real_x > X_EAST].groupby('animal_id').mean()['lat'],\n",
    "                               lon=df[df.real_x > X_EAST].groupby('animal_id').mean()['lon'],\n",
    "                               marker=marker_east,\n",
    "                               name = \"East\")\n",
    "                               )\n",
    "\n",
    "\n",
    "fig.update_layout(\n",
    "    margin={\"r\":0,\"t\":0,\"l\":0,\"b\":0},\n",
    "    mapbox=go.layout.Mapbox(\n",
    "        style=\"stamen-terrain\", \n",
    "        zoom=6.4,\n",
    "        center_lat =  47.7,\n",
    "        center_lon = 13.31,\n",
    "        layers=[{\n",
    "            'sourcetype': 'geojson',\n",
    "            'source': austria,\n",
    "            'type': 'line',\n",
    "        }]\n",
    "\n",
    "    )\n",
    ")\n",
    "fig.update_layout(legend=dict(\n",
    "    yanchor=\"top\",\n",
    "    y=0.99,\n",
    "    xanchor=\"left\",\n",
    "    x=0.01\n",
    "))\n",
    "fig.update_layout(mapbox_style='carto-positron')\n",
    "fig.show()"
   ]
  },
  {
   "cell_type": "markdown",
   "metadata": {},
   "source": [
    "## Original vs Teleported"
   ]
  },
  {
   "cell_type": "code",
   "execution_count": null,
   "metadata": {
    "execution": {
     "iopub.execute_input": "2022-04-28T22:41:57.556785Z",
     "iopub.status.busy": "2022-04-28T22:41:57.556374Z",
     "iopub.status.idle": "2022-04-28T22:41:57.892314Z",
     "shell.execute_reply": "2022-04-28T22:41:57.892894Z"
    }
   },
   "outputs": [],
   "source": [
    "tmp_df = df_val.loc[df_val['animal_id'] == '5c0161270581e6502d38b2aa']\n",
    "S_ab = torch.Tensor(tmp_df[SENSOR_COLS].to_numpy())\n",
    "with torch.no_grad():\n",
    "    s_tele_a = dec_b(lat(enc_a(S_ab)))\n",
    "S_ab = S_ab.numpy()\n",
    "s_tele_a = s_tele_a.numpy()\n",
    "\n",
    "fig = go.Figure()\n",
    "fig.add_trace(go.Scatter(y=scaler.inverse_transform(S_ab[:, 0], [SENSOR_COLS[0]]).squeeze(), name='Original', line=dict(width=3)))\n",
    "fig.add_trace(go.Scatter(y=scaler.inverse_transform(s_tele_a[:, 0], [SENSOR_COLS[0]]).squeeze(), name='Teleported'))\n",
    "fig.update_layout(template='simple_white', margin={'l': 0,'r': 0, 'b': 0,'t': 0})\n",
    "fig.update_layout(font={'size': 24}, xaxis_title='Days', yaxis_title='Activity')\n",
    "fig.update_layout(legend={'orientation': 'h', 'yanchor': 'bottom', 'y': 1.02, 'xanchor': 'right', 'x': 1})\n",
    "fig.show()\n",
    "fig.write_image('plots/cow_teleport_sample.pdf')"
   ]
  },
  {
   "cell_type": "code",
   "execution_count": null,
   "metadata": {
    "execution": {
     "iopub.execute_input": "2022-04-28T22:41:57.896231Z",
     "iopub.status.busy": "2022-04-28T22:41:57.895801Z",
     "iopub.status.idle": "2022-04-28T22:41:57.918094Z",
     "shell.execute_reply": "2022-04-28T22:41:57.917546Z"
    }
   },
   "outputs": [],
   "source": [
    "pearsonr(S_ab[:, 0], s_tele_a[:, 0])"
   ]
  },
  {
   "cell_type": "markdown",
   "metadata": {},
   "source": [
    "## Distance from Teleported"
   ]
  },
  {
   "cell_type": "code",
   "execution_count": null,
   "metadata": {
    "execution": {
     "iopub.execute_input": "2022-04-28T22:41:57.923131Z",
     "iopub.status.busy": "2022-04-28T22:41:57.922655Z",
     "iopub.status.idle": "2022-04-28T22:41:59.191680Z",
     "shell.execute_reply": "2022-04-28T22:41:59.191141Z"
    }
   },
   "outputs": [],
   "source": [
    "stations_west = df_val_west['animal_id'].unique()\n",
    "stations_east = df_val_east['animal_id'].unique()\n",
    "station_distances = []\n",
    "\n",
    "for i in range(len(stations_west)):\n",
    "    tmp_df = df.loc[df['animal_id'] == stations_west[i]]\n",
    "    x_A = tmp_df['real_x'].iloc[0]\n",
    "    y_A = tmp_df['real_y'].iloc[0]\n",
    "    for i in range(len(stations_east)):\n",
    "        tmp_df = df.loc[df['animal_id'] == stations_east[i]]\n",
    "        x_B = tmp_df['real_x'].iloc[0]\n",
    "        y_B = tmp_df['real_y'].iloc[0]\n",
    "        \n",
    "        station_distances.append(l2norm_km((x_A, y_A), (x_B, y_B), 'A'))"
   ]
  },
  {
   "cell_type": "code",
   "execution_count": null,
   "metadata": {
    "execution": {
     "iopub.execute_input": "2022-04-28T22:41:59.196178Z",
     "iopub.status.busy": "2022-04-28T22:41:59.195731Z",
     "iopub.status.idle": "2022-04-28T22:41:59.470498Z",
     "shell.execute_reply": "2022-04-28T22:41:59.469865Z"
    }
   },
   "outputs": [],
   "source": [
    "fig = go.Figure()\n",
    "fig.add_trace(go.Box(y=station_distances, name='Station Distances'))\n",
    "fig.add_trace(go.Box(y=orig_a, name='Original Trace West'))\n",
    "fig.add_trace(go.Box(y=tele_a, name='Teleported Trace West'))\n",
    "fig.add_trace(go.Box(y=orig_b, name='Original Trace East'))\n",
    "fig.add_trace(go.Box(y=tele_b, name='Teleported Trace East'))\n",
    "fig.update_layout(showlegend=False, template='simple_white', margin={'l': 0,'r': 0, 'b': 0,'t': 0})\n",
    "fig.update_layout(font={'size': 24}, yaxis_title='Error (km)')\n",
    "fig.show()\n",
    "\n",
    "fig.write_image('plots/cow_teleport_localization.pdf')"
   ]
  },
  {
   "cell_type": "code",
   "execution_count": null,
   "metadata": {
    "execution": {
     "iopub.execute_input": "2022-04-28T22:41:59.473985Z",
     "iopub.status.busy": "2022-04-28T22:41:59.473554Z",
     "iopub.status.idle": "2022-04-28T22:41:59.492509Z",
     "shell.execute_reply": "2022-04-28T22:41:59.492004Z"
    }
   },
   "outputs": [],
   "source": [
    "avg_err = (np.abs(np.array(orig_a) - np.array(tele_a)).mean() + np.abs(np.array(orig_b) - np.array(tele_b)).mean())/2\n",
    "print(f'Average Error : {avg_err} km')"
   ]
  },
  {
   "cell_type": "code",
   "execution_count": null,
   "metadata": {
    "execution": {
     "iopub.execute_input": "2022-04-28T22:41:59.496534Z",
     "iopub.status.busy": "2022-04-28T22:41:59.495877Z",
     "iopub.status.idle": "2022-04-28T22:41:59.515946Z",
     "shell.execute_reply": "2022-04-28T22:41:59.516428Z"
    },
    "scrolled": true
   },
   "outputs": [],
   "source": [
    "err_a = np.abs(np.array(orig_a) - np.array(tele_a)).mean()\n",
    "err_b = np.abs(np.array(orig_b) - np.array(tele_b)).mean()\n",
    "print(f'Error A: {err_a} km Err B: {err_b} km')"
   ]
  },
  {
   "cell_type": "code",
   "execution_count": null,
   "metadata": {
    "execution": {
     "iopub.execute_input": "2022-04-28T22:41:59.520302Z",
     "iopub.status.busy": "2022-04-28T22:41:59.519856Z",
     "iopub.status.idle": "2022-04-28T22:41:59.540396Z",
     "shell.execute_reply": "2022-04-28T22:41:59.539904Z"
    }
   },
   "outputs": [],
   "source": [
    "rel_error = ((np.array(tele_a) - np.array(orig_a)) / np.abs(np.array(tele_a))).mean() * 100\n",
    "print(f'Relative Error A: {rel_error}%')\n",
    "rel_error = ((np.array(tele_b) - np.array(orig_b)) / np.abs(np.array(tele_b))).mean() * 100\n",
    "print(f'Relative Error B: {rel_error}%')"
   ]
  },
  {
   "cell_type": "code",
   "execution_count": null,
   "metadata": {
    "execution": {
     "iopub.execute_input": "2022-04-28T22:41:59.544867Z",
     "iopub.status.busy": "2022-04-28T22:41:59.544377Z",
     "iopub.status.idle": "2022-04-28T22:41:59.796676Z",
     "shell.execute_reply": "2022-04-28T22:41:59.796040Z"
    }
   },
   "outputs": [],
   "source": [
    "fig = go.Figure()\n",
    "fig.add_trace(go.Box(y=np.array(rse_tele_a), name='Teleported Trace East'))\n",
    "fig.add_trace(go.Box(y=np.array(rse_tele_b), name='Teleported Trace West'))\n",
    "fig.update_layout(showlegend=False, template='simple_white', margin={'l': 0,'r': 0, 'b': 0,'t': 0})\n",
    "fig.update_layout(font={'size': 24}, yaxis_title='Mean Absolut Error')\n",
    "fig.update_yaxes(range=[0, 0.12])\n",
    "fig.show()\n",
    "\n",
    "fig.write_image('plots/cow_teleport_mae.pdf')"
   ]
  }
 ],
 "metadata": {
  "kernelspec": {
   "display_name": "Python 3",
   "language": "python",
   "name": "python3"
  },
  "language_info": {
   "codemirror_mode": {
    "name": "ipython",
    "version": 3
   },
   "file_extension": ".py",
   "mimetype": "text/x-python",
   "name": "python",
   "nbconvert_exporter": "python",
   "pygments_lexer": "ipython3",
   "version": "3.8.13"
  }
 },
 "nbformat": 4,
 "nbformat_minor": 4
}
